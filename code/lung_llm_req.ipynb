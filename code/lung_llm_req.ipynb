{
  "cells": [
    {
      "cell_type": "markdown",
      "metadata": {
        "id": "hWZMj4F3JMzX"
      },
      "source": [
        "- There are 5 sections contained in the paper: Introduction, System Requirements, GUI Requirements, Controller Requirements, and Alarm\n",
        "\n",
        "- Within these sections, we are checking for 3 main requirements - Completeness, Inconsistencies/Contradictions, Ambiguity\n",
        "\n",
        "- There are 5 section-wise prompts and 1 global prompt checking for each of the requirements"
      ]
    },
    {
      "cell_type": "markdown",
      "metadata": {
        "id": "dq9orpo4JXYL"
      },
      "source": [
        "# Completeness"
      ]
    },
    {
      "cell_type": "code",
      "execution_count": null,
      "metadata": {
        "id": "x5KljGHeJU6a"
      },
      "outputs": [],
      "source": [
        "# for the global prompt\n",
        "\n",
        "# note - ISO standards not specified\n",
        "comp_global_prompt = \"\"\"\n",
        "The following contains the detailed software requirements specification of a Mechanical Lung Ventilator, provided between triple backticks, consisting of Introduction, System Requirements, GUI Requirements, Controller Requirements, and Alarm List sections. Evaluate the content for incompleteness or missing details, and document any identified issues.\n",
        "Based on the content given:\n",
        "1. Are there any incomplete and/or missing details in the Introduction?\n",
        "2. Are there any incomplete and/or missing details in the System Requirements?\n",
        "3. Are there any incomplete and/or missing details in the GUI Requirements?\n",
        "4. Are there any incomplete and/or missing details in the Controller Requirements?\n",
        "5. Are there any incomplete and/or missing details in the Alarms section?\n",
        "6. Are there any incomplete and/or missing details in the Input references specified within the content in the System Requirements that refer to the ISO Standards, EU Directive 2007/47/EC, or the IEC Standards?\n",
        "7. Are there any incomplete and/or missing details in the Input references specified within the content in the System Requirements that refer to other System Requirements specified within the content?\n",
        "8. Are there any incomplete and/or missing details in the Input references specified within the content in the GUI Requirements that refer to the System Requirements specified within the content?\n",
        "9. Are there any incomplete and/or missing details in the Input references specified within the content in the Controller Requirements that link to the System Requirements specified within the content?\n",
        "10. Are there any incomplete and/or missing details in the Input references specified within the content in the Alarms section that link to the System Requirements specified within the content?\n",
        "11. Are there any incomplete and/or missing details in the Input references specified within the content in the Alarms section that refer to the ISO Standards, EU Directive 2007/47/EC, or the IEC Standards?\n",
        "\"\"\""
      ]
    },
    {
      "cell_type": "code",
      "execution_count": null,
      "metadata": {
        "id": "CdsuOHIEPpxY"
      },
      "outputs": [],
      "source": [
        "# for the section-wise prompt\n",
        "\n",
        "comp_introduction_prompt = \"\"\"\n",
        "The following contains an excerpt from a detailed software requirements specification of a Mechanical Lung Ventilator, provided between triple backticks, consisting solely of the Introduction section. Evaluate the content for incompleteness or missing details, and document any identified issues.\n",
        "Based on the content given:\n",
        "1. Are there any incomplete and/or missing details specifically about the Mechanical Lung Ventilator?\n",
        "2. Are there any incomplete and/or missing details in the Introduction section as a whole?\n",
        "\"\"\"\n",
        "\n",
        "# section 2.4.1 consists of images (not included in the prompt)\n",
        "comp_system_prompt = \"\"\"\n",
        "The following contains an excerpt from a detailed software requirements specification of a Mechanical Lung Ventilator, provided between triple backticks, consisting solely of the System Requirements section. Evaluate the content for incompleteness or missing details, and document any identified issues.\n",
        "Based on the content given:\n",
        "1. Are there any incomplete and/or missing details in the System Requirements section as a whole? (Evaluate all sub-sections in the System Requirements whether any necessary information is lacking or if there are gaps in coverage based on industry standards, regulations, or best practices.)\n",
        "2. Is the Functional Requirements table, including the fields for ID, Requirement/Rationale, and Input Reference, complete? (Assess whether all required fields are adequately filled out and whether any crucial details are missing from the table.)\n",
        "3. Is the Measured and Displayed Parameters table, including the fields for ID, Requirement/Rationale, and Input Reference, complete? (Assess whether all required fields are adequately filled out and whether any crucial details are missing from the table.)\n",
        "4. In the Values and Ranges sub-section, is the Common values and ranges table, including the fields for ID, Requirement/Rationale, and Input Reference, complete? (Assess whether all required fields are adequately filled out and whether any crucial details are missing from the table.)\n",
        "5. In the Values and Ranges sub-section, is the Default values and ranges for PCV parameters table, including the fields for ID, Requirement/Rationale, and Input Reference, complete? (Assess whether all required fields are adequately filled out and whether any crucial details are missing from the table.)\n",
        "6. In the Values and Ranges sub-section, is the Default values and ranges for PSV parameters table, including the fields for ID, Requirement/Rationale, and Input Reference, complete? (Assess whether all required fields are adequately filled out and whether any crucial details are missing from the table.)\n",
        "7. In the Values and Ranges sub-section, is the Default Alarm Thresholds Values and Ranges table, including the fields for ID, Requirement/Rationale, and Input Reference, complete? (Assess whether all required fields are adequately filled out and whether any crucial details are missing from the table.)\n",
        "8. In the Sensors and Interfaces sub-section, is the Interface between GUI and controller table, including the fields for ID, Requirement/Rationale, and Input Reference, complete? (Assess whether all required fields are adequately filled out and whether any crucial details are missing from the table.)\n",
        "9. In the Sensors and Interfaces sub-section, is the Interface between Hardware and controller table, including the fields for ID, Requirement/Rationale, and Input Reference, complete? (Assess whether all required fields are adequately filled out and whether any crucial details are missing from the table.)\n",
        "10. In the Sensors and Interfaces sub-section, is the Alarm Requirements table, including the fields for ID, Requirement/Rationale, and Input Reference, complete? (Assess whether all required fields are adequately filled out and whether any crucial details are missing from the table.)\n",
        "\"\"\"\n",
        "\n",
        "comp_gui_prompt = \"\"\"\n",
        "The following contains an excerpt from a detailed software requirements specification of a Mechanical Lung Ventilator, provided between triple backticks, consisting of only the GUI Requirements section. Evaluate the content for incompleteness or missing details, and document any identified issues.\n",
        "Based on the content given:\n",
        "1. Are there any incomplete and/or missing details in the GUI Requirements section as a whole? (Evaluate all sub-sections in the GUI Requirements whether any necessary information is lacking or if there are gaps in coverage based on industry standards, regulations, or best practices.)\n",
        "2. Is the GUI Requirements table, including the fields for ID, Requirement/Rationale, and Input Reference, complete? (Assess whether all required fields are adequately filled out and whether any crucial details are missing from the table.)\n",
        "3. Is the Start-up Mode table, including the fields for ID, Requirement/Rationale, and Input Reference, complete? (Assess whether all required fields are adequately filled out and whether any crucial details are missing from the table.)\n",
        "4. In the Start-up Mode sub-section, is the Start-up Configuration Parameters table, including the fields for ID, Requirement/Rationale, and Input Reference, complete? (Assess whether all required fields are adequately filled out and whether any crucial details are missing from the table.)\n",
        "5. Is the Start Mode table, including the fields for ID, Requirement/Rationale, and Input Reference, complete? (Assess whether all required fields are adequately filled out and whether any crucial details are missing from the table.)\n",
        "6. Is the Menu Mode table, including the fields for ID, Requirement/Rationale, and Input Reference, complete? (Assess whether all required fields are adequately filled out and whether any crucial details are missing from the table.)\n",
        "7. Is the Self-Test Mode table, including the fields for ID, Requirement/Rationale, and Input Reference, complete? (Assess whether all required fields are adequately filled out and whether any crucial details are missing from the table.)\n",
        "8. Is the Ventilation Mode table, including the fields for ID, Requirement/Rationale, and Input Reference, complete? (Assess whether all required fields are adequately filled out and whether any crucial details are missing from the table.)\n",
        "9. Is the Show Real Time Data Mode table, including the fields for ID, Requirement/Rationale, and Input Reference, complete? (Assess whether all required fields are adequately filled out and whether any crucial details are missing from the table.)\n",
        "10. Is the Settings Mode table, including the fields for ID, Requirement/Rationale, and Input Reference, complete? (Assess whether all required fields are adequately filled out and whether any crucial details are missing from the table.)\n",
        "11. Is the Frozen Mode table, including the fields for ID, Requirement/Rationale, and Input Reference, complete? (Assess whether all required fields are adequately filled out and whether any crucial details are missing from the table.)\n",
        "12. Is the Alarm settings Mode table, including the fields for ID, Requirement/Rationale, and Input Reference, complete? (Assess whether all required fields are adequately filled out and whether any crucial details are missing from the table.)\n",
        "\"\"\"\n",
        "\n",
        "comp_controller_prompt = \"\"\"\n",
        "The following contains an excerpt from a detailed software requirements specification of a Mechanical Lung Ventilator, provided between triple backticks, consisting of only the Controller Requirements section. Evaluate the content for incompleteness or missing details, and document any identified issues.\n",
        "Based on the content given:\n",
        "1. Are there any incomplete and/or missing details in the Controller Requirements section as a whole? (Evaluate all sub-sections in the Controller Requirements whether any necessary information is lacking or if there are gaps in coverage based on industry standards, regulations, or best practices.)\n",
        "2. Is the Controller Requirements table, including the fields for ID, Requirement/Rationale, and Input Reference, complete? (Assess whether all required fields are adequately filled out and whether any crucial details are missing from the table.)\n",
        "3. Is the Start-up Mode table, including the fields for ID, Requirement/Rationale, and Input Reference, complete? (Assess whether all required fields are adequately filled out and whether any crucial details are missing from the table.)\n",
        "4. Is the SelfTest Mode table, including the fields for ID, Requirement/Rationale, and Input Reference, complete? (Assess whether all required fields are adequately filled out and whether any crucial details are missing from the table.)\n",
        "5. Is the PCV Mode table, including the fields for ID, Requirement/Rationale, and Input Reference, complete? (Assess whether all required fields are adequately filled out and whether any crucial details are missing from the table.)\n",
        "6. Is the PSV Mode table, including the fields for ID, Requirement/Rationale, and Input Reference, complete? (Assess whether all required fields are adequately filled out and whether any crucial details are missing from the table.)\n",
        "7. Is the Requirements Common to all Modes table, including the fields for ID, Requirement/Rationale, and Input Reference, complete? (Assess whether all required fields are adequately filled out and whether any crucial details are missing from the table.)\n",
        "\"\"\"\n",
        "\n",
        "comp_alarm_prompt = \"\"\"\n",
        "The following contains an excerpt from a detailed software requirements specification of a Mechanical Lung Ventilator, provided between triple backticks, consisting of only the Alarms section. Evaluate the content for incompleteness or missing details, and document any identified issues.\n",
        "Based on the content given:\n",
        "1. Are there any incomplete and/or missing details in the Alarms section as a whole? (Evaluate all sub-sections in the Alarm Requirements whether any necessary information is lacking or if there are gaps in coverage based on industry standards, regulations, or best practices.)\n",
        "2. Is the Alarms table, including the fields for ID, Requirement/Rationale, and Input Reference, complete? (Assess whether all required fields are adequately filled out and whether any crucial details are missing from the table.)\n",
        "3. Is the Alarms List table, including the fields for ID, Requirement/Rationale, and Input Reference, complete? (Assess whether all required fields are adequately filled out and whether any crucial details are missing from the table.)\n",
        "4. Is the Visual Alarm Signals table, including the fields for ID, Requirement/Rationale, and Input Reference, complete? (Assess whether all required fields are adequately filled out and whether any crucial details are missing from the table.)\n",
        "\"\"\""
      ]
    },
    {
      "cell_type": "markdown",
      "metadata": {
        "id": "F379GkHj8oMR"
      },
      "source": [
        "# Inconsistencies / Contradictions"
      ]
    },
    {
      "cell_type": "code",
      "execution_count": null,
      "metadata": {
        "id": "AD11nQ6W8zzq"
      },
      "outputs": [],
      "source": [
        "# for the global prompt\n",
        "\n",
        "# note - ISO standards not specified\n",
        "cont_global_prompt = \"\"\"\n",
        "The following contains the detailed software requirements specification of a Mechanical Lung Ventilator, provided between triple backticks, consisting of Introduction, System Requirements, GUI Requirements, Controller Requirements, and Alarm List sections. Evaluate the content for inconsistencies or contradictions, and document any identified issues.\n",
        "Based on the content given:\n",
        "1. Are there any inconsistencies and/or contradictions in the Introduction?\n",
        "2. Are there any inconsistencies and/or contradictions in the System Requirements?\n",
        "3. Are there any inconsistencies and/or contradictions in the GUI Requirements?\n",
        "4. Are there any inconsistencies and/or contradictions in the Controller Requirements?\n",
        "5. Are there any inconsistencies and/or contradictions in the Alarms section?\n",
        "6. Are there any inconsistencies and/or contradictions between the Introduction and System Requirements sections?\n",
        "7. Are there any inconsistencies and/or contradictions between the Introduction and GUI Requirements sections?\n",
        "8. Are there any inconsistencies and/or contradictions between the Introduction and Controller Requirements sections?\n",
        "9. Are there any inconsistencies and/or contradictions between the Introduction and Alarm List sections?\n",
        "10. Are there any inconsistencies and/or contradictions between the System Requirements and GUI Requirements sections?\n",
        "11. Are there any inconsistencies and/or contradictions between the System Requirements and Controller Requirements sections?\n",
        "12. Are there any inconsistencies and/or contradictions between the System Requirements and Alarm List sections?\n",
        "13. Are there any inconsistencies and/or contradictions between the GUI Requirements and Controller Requirements sections?\n",
        "14. Are there any inconsistencies and/or contradictions between the GUI Requirements and Alarm List sections?\n",
        "15. Are there any inconsistencies and/or contradictions between the Controller Requirements and Alarm List sections?\n",
        "\"\"\""
      ]
    },
    {
      "cell_type": "code",
      "execution_count": null,
      "metadata": {
        "id": "hPP_zqSL89Gl"
      },
      "outputs": [],
      "source": [
        "# for the section-wise prompt\n",
        "\n",
        "cont_introduction_prompt = \"\"\"\n",
        "The following contains an excerpt from a detailed software requirements specification of a Mechanical Lung Ventilator, provided between triple backticks, consisting solely of the Introduction section. Evaluate the content for inconsistencies or contradictions, and document any identified issues.\n",
        "Based on the content given:\n",
        "1. Are there any inconsistencies and/or contradictions present in the Introduction section as a whole?\n",
        "2. Are there any inconsistencies and/or contradictions present specifically in the details about the Mechanical Lung Ventilator?\n",
        "\"\"\"\n",
        "\n",
        "# section 2.4.1 consists of images (not included in the prompt)\n",
        "cont_system_prompt = \"\"\"\n",
        "The following contains an excerpt from a detailed software requirements specification of a Mechanical Lung Ventilator, provided between triple backticks, consisting solely of the System Requirements section. Evaluate the content for inconsistencies or contradictions, and document any identified issues.\n",
        "Based on the content given:\n",
        "1. Are there any inconsistencies and/or contradictions present in the System Requirements section as a whole? (Evaluate any inconsistencies or contradictions between all the sub-sections in the System Requirements section.)\n",
        "2. Are there any inconsistencies and/or contradictions within the Functional Requirements table? (Evaluate any inconsistencies or contradictions within the Functional Requirements table.)\n",
        "3. Are there any inconsistencies and/or contradictions within the Measured and Displayed Parameters table? (Evaluate any inconsistencies or contradictions within the Measured and Displayed Parameters table.)\n",
        "4. Are there any inconsistencies and/or contradictions within the Values and Ranges sub-section? (Evaluate any inconsistencies or contradictions within the Values and Ranges sub-section.)\n",
        "5. Are there any inconsistencies and/or contradictions within the Sensors and Interfaces sub-section? (Evaluate any inconsistencies or contradictions within the Sensors and Interfaces sub-section.)\n",
        "6. Are there any inconsistencies and/or contradictions within the Alarm Requirements? (Evaluate any inconsistencies or contradictions within the Alarm Requirements.)\n",
        "\"\"\"\n",
        "\n",
        "cont_gui_prompt = \"\"\"\n",
        "The following contains an excerpt from a detailed software requirements specification of a Mechanical Lung Ventilator, provided between triple backticks, consisting solely of the GUI Requirements section. Evaluate the content for inconsistencies or contradictions, and document any identified issues.\n",
        "Based on the content given:\n",
        "1. Are there any inconsistencies and/or contradictions present in the GUI Requirements section as a whole? (Evaluate any inconsistencies or contradictions between all the sub-sections in the GUI Requirements section.)\n",
        "2. Are there any inconsistencies and/or contradictions within the GUI Requirements table? (Evaluate any inconsistencies or contradictions within the GUI Requirements table.)\n",
        "3. Are there any inconsistencies and/or contradictions within the Start-up Mode subsection? (Evaluate any inconsistencies or contradictions within the Start-up Mode subsection.)\n",
        "4. Are there any inconsistencies and/or contradictions within the Start Mode subsection? (Evaluate any inconsistencies or contradictions within the Start Mode subsection.)\n",
        "5. Are there any inconsistencies and/or contradictions within the Menu Mode subsection? (Evaluate any inconsistencies or contradictions within the Menu Mode subsection.)\n",
        "6. Are there any inconsistencies and/or contradictions within the Self-Test Mode subsection? (Evaluate any inconsistencies or contradictions within the Self-Test Mode subsection.)\n",
        "7. Are there any inconsistencies and/or contradictions within the Ventilation Mode subsection? (Evaluate any inconsistencies or contradictions within the Ventilation Mode subsection.)\n",
        "8. Are there any inconsistencies and/or contradictions within the Show Real Time Data Mode subsection? (Evaluate any inconsistencies or contradictions within the Show Real Time Data Mode subsection.)\n",
        "9. Are there any inconsistencies and/or contradictions within the Settings Mode subsection? (Evaluate any inconsistencies or contradictions within the Settings Mode subsection.)\n",
        "10. Are there any inconsistencies and/or contradictions within the Frozen Mode subsection? (Evaluate any inconsistencies or contradictions within the Frozen Mode subsection.)\n",
        "11. Are there any inconsistencies and/or contradictions within the Alarm settings Mode subsection? (Evaluate any inconsistencies or contradictions within the Alarm settings Mode subsection.)\n",
        "\"\"\"\n",
        "\n",
        "cont_controller_prompt = \"\"\"\n",
        "The following contains an excerpt from a detailed software requirements specification of a Mechanical Lung Ventilator, provided between triple backticks, consisting solely of the Controller Requirements section. Evaluate the content for inconsistencies or contradictions, and document any identified issues.\n",
        "Based on the content given:\n",
        "1. Are there any inconsistencies and/or contradictions present in the Controller Requirements section as a whole? (Evaluate any inconsistencies or contradictions between all the sub-sections in the Controller Requirements section.)\n",
        "2. Are there any inconsistencies and/or contradictions within the Controller requirements table? (Evaluate any inconsistencies or contradictions within the Controller Requirements table.)\n",
        "3. Are there any inconsistencies and/or contradictions within the Start-up Mode subsection? (Evaluate any inconsistencies or contradictions within the Start-up Mode subsection.)\n",
        "4. Are there any inconsistencies and/or contradictions within the SelfTest Mode subsection? (Evaluate any inconsistencies or contradictions within the SelfTest Mode subsection.)\n",
        "5. Are there any inconsistencies and/or contradictions within the PCV Mode subsection? (Evaluate any inconsistencies or contradictions within the PCV Mode subsection.)\n",
        "6. Are there any inconsistencies and/or contradictions within the PSV Mode subsection? (Evaluate any inconsistencies or contradictions within the PSV Mode subsection.)\n",
        "7. Are there any inconsistencies and/or contradictions within the Requirements Common to all Modes subsection? (Evaluate any inconsistencies or contradictions within the Requirements Common to all Modes subsection.)\n",
        "\"\"\"\n",
        "\n",
        "cont_alarm_prompt = \"\"\"\n",
        "The following contains an excerpt from a detailed software requirements specification of a Mechanical Lung Ventilator, provided between triple backticks, consisting solely of the Alarms section. Evaluate the content for inconsistencies or contradictions, and document any identified issues.\n",
        "Based on the content given:\n",
        "1. Are there any inconsistencies and/or contradictions present in the Alarms section as a whole? (Evaluate any inconsistencies or contradictions between all the sub-sections in the Alarms section.)\n",
        "2. Are there any inconsistencies and/or contradictions within the Alarms table? (Evaluate any inconsistencies or contradictions within the Alarms table.)\n",
        "3. Are there any inconsistencies and/or contradictions within the Alarm list subsection? (Evaluate any inconsistencies or contradictions within the Alarm list subsection.)\n",
        "4. Are there any inconsistencies and/or contradictions within the Visual alarm signals subsection? (Evaluate any inconsistencies or contradictions within the Visual alarm signals subsection.)\n",
        "\"\"\""
      ]
    },
    {
      "cell_type": "markdown",
      "metadata": {
        "id": "r0MFKVkj81sP"
      },
      "source": [
        "# Ambiguity"
      ]
    },
    {
      "cell_type": "code",
      "execution_count": null,
      "metadata": {
        "id": "QO_ugNjPKofE"
      },
      "outputs": [],
      "source": [
        "# for the global prompt\n",
        "\n",
        "# note - ISO standards not specified\n",
        "ambi_global_prompt = \"\"\"\n",
        "The following contains the detailed software requirements specification of a Mechanical Lung Ventilator, provided between triple backticks, consisting of Introduction, System Requirements, GUI Requirements, Controller Requirements, and Alarms sections. Evaluate the content for ambiguities, unclear statements, or potential misunderstandings, and document any identified issues.\n",
        "Based on the content given:\n",
        "1. Are there any ambiguities or unclear statements in the Introduction section?\n",
        "2. Are there any ambiguities or unclear statements in the System Requirements section?\n",
        "3. Are there any ambiguities or unclear statements in the GUI Requirements section?\n",
        "4. Are there any ambiguities or unclear statements in the Controller Requirements section?\n",
        "5. Are there any ambiguities or unclear statements in the Alarms section?\n",
        "6. Are there any ambiguities or unclear statements between the Introduction and System Requirements sections?\n",
        "7. Are there any ambiguities or unclear statements between the Introduction and GUI Requirements sections?\n",
        "8. Are there any ambiguities or unclear statements between the Introduction and Controller Requirements sections?\n",
        "9. Are there any ambiguities or unclear statements between the Introduction and Alarms sections?\n",
        "10. Are there any ambiguities or unclear statements between the System Requirements and GUI Requirements sections?\n",
        "11. Are there any ambiguities or unclear statements between the System Requirements and Controller Requirements sections?\n",
        "12. Are there any ambiguities or unclear statements between the System Requirements and Alarms sections?\n",
        "13. Are there any ambiguities or unclear statements between the GUI Requirements and Controller Requirements sections?\n",
        "14. Are there any ambiguities or unclear statements between the GUI Requirements and Alarms sections?\n",
        "15. Are there any ambiguities or unclear statements between the Controller Requirements and Alarms sections?\n",
        "\"\"\""
      ]
    },
    {
      "cell_type": "code",
      "execution_count": null,
      "metadata": {
        "id": "KZuEb9ZyKofE"
      },
      "outputs": [],
      "source": [
        "# for the section-wise prompt\n",
        "\n",
        "ambi_introduction_prompt = \"\"\"\n",
        "The following contains the detailed software requirements specification of a Mechanical Lung Ventilator provided between triple backticks. Evaluate the Introduction section and its sub-sections for ambiguities, unclear statements, or potential misunderstandings, and document any identified issues.\n",
        "Based on the content given:\n",
        "1. Are there any ambiguities or unclear statements in the Introduction section as a whole?\n",
        "2. Are there any ambiguities or unclear statements in the Mechanical lung ventilator subsection?\n",
        "3. Are there any ambiguities or unclear statements in the Structure of the document subsection?\n",
        "4. Are there any ambiguities or unclear statements in the Suggested outcomes subsection?\n",
        "\"\"\"\n",
        "\n",
        "# section 2.4.1 consists of images (not included in the prompt)\n",
        "ambi_system_prompt = \"\"\"\n",
        "The following contains an excerpt from a detailed software requirements specification of a Mechanical Lung Ventilator, provided between triple backticks, consisting solely of the System Requirements section. Evaluate the content for ambiguities, unclear statements, or potential misunderstandings, and document any identified issues.\n",
        "Based on the content given:\n",
        "1. Are there any ambiguities or unclear statements present in the System Requirements section as a whole? (Evaluate any ambiguities or unclear statements between all the sub-sections in the System Requirements section.)\n",
        "2. Are there any ambiguities or unclear statements within the Functional Requirements table? (Evaluate any ambiguities or unclear statements within the Functional Requirements table.)\n",
        "3. Are there any ambiguities or unclear statements within the Measured and Displayed Parameters table? (Evaluate any ambiguities or unclear statements within the Measured and Displayed Parameters table.)\n",
        "4. Are there any ambiguities or unclear statements within the Values and Ranges sub-section? (Evaluate any ambiguities or unclear statements within the Values and Ranges sub-section.)\n",
        "5. Are there any ambiguities or unclear statements within the Sensors and Interfaces sub-section? (Evaluate any ambiguities or unclear statements within the Sensors and Interfaces sub-section.)\n",
        "6. Are there any ambiguities or unclear statements within the Alarm Requirements? (Evaluate any ambiguities or unclear statements within the Alarm Requirements.)\n",
        "\"\"\"\n",
        "\n",
        "ambi_gui_prompt = \"\"\"\n",
        "The following contains an excerpt from a detailed software requirements specification of a Mechanical Lung Ventilator, provided between triple backticks, consisting solely of the GUI Requirements section. Evaluate the content for ambiguities, unclear statements, or potential misunderstandings, and document any identified issues.\n",
        "Based on the content given:\n",
        "1. Are there any ambiguities or unclear statements present in the GUI Requirements section as a whole? (Evaluate any ambiguities or unclear statements between the section and all its sub-sections in the GUI Requirements section.)\n",
        "2. Are there any ambiguities or unclear statements within the GUI Requirements table? (Evaluate any ambiguities or unclear statements within the GUI Requirements table.)\n",
        "3. Are there any ambiguities or unclear statements within the Start-up Mode subsection? (Evaluate any ambiguities or unclear statements within the Start-up Mode subsection.)\n",
        "4. Are there any ambiguities or unclear statements within the Start Mode subsection? (Evaluate any ambiguities or unclear statements within the Start Mode subsection.)\n",
        "5. Are there any ambiguities or unclear statements within the Menu Mode subsection? (Evaluate any ambiguities or unclear statements within the Menu Mode subsection.)\n",
        "6. Are there any ambiguities or unclear statements within the Self-Test Mode subsection? (Evaluate any ambiguities or unclear statements within the Self-Test Mode subsection.)\n",
        "7. Are there any ambiguities or unclear statements within the Ventilation Mode subsection? (Evaluate any ambiguities or unclear statements within the Ventilation Mode subsection.)\n",
        "8. Are there any ambiguities or unclear statements within the Show Real Time Data Mode subsection? (Evaluate any ambiguities or unclear statements within the Show Real Time Data Mode subsection.)\n",
        "9. Are there any ambiguities or unclear statements within the Settings Mode subsection? (Evaluate any ambiguities or unclear statements within the Settings Mode subsection.)\n",
        "10. Are there any ambiguities or unclear statements within the Frozen Mode subsection? (Evaluate any ambiguities or unclear statements within the Frozen Mode subsection.)\n",
        "11. Are there any ambiguities or unclear statements within the Alarm settings Mode subsection? (Evaluate any ambiguities or unclear statements within the Alarm settings Mode subsection.)\n",
        "\"\"\"\n",
        "\n",
        "ambi_controller_prompt = \"\"\"\n",
        "The following contains an excerpt from a detailed software requirements specification of a Mechanical Lung Ventilator, provided between triple backticks, consisting solely of the Controller Requirements section. Evaluate the content for ambiguities, unclear statements, or potential misunderstandings, and document any identified issues.\n",
        "Based on the content given:\n",
        "1. Are there any ambiguities or unclear statements present in the Controller Requirements section as a whole? (Evaluate any ambiguities or unclear statements between the section and all its sub-sections in the Controller Requirements section.)\n",
        "2. Are there any ambiguities or unclear statements within the Controller requirements table? (Evaluate any ambiguities or unclear statements within the Controller Requirements table.)\n",
        "3. Are there any ambiguities or unclear statements within the Start-up Mode subsection? (Evaluate any ambiguities or unclear statements within the Start-up Mode subsection.)\n",
        "4. Are there any ambiguities or unclear statements within the SelfTest Mode subsection? (Evaluate any ambiguities or unclear statements within the SelfTest Mode subsection.)\n",
        "5. Are there any ambiguities or unclear statements within the PCV Mode subsection? (Evaluate any ambiguities or unclear statements within the PCV Mode subsection.)\n",
        "6. Are there any ambiguities or unclear statements within the PSV Mode subsection? (Evaluate any ambiguities or unclear statements within the PSV Mode subsection.)\n",
        "7. Are there any ambiguities or unclear statements within the Requirements Common to all Modes subsection? (Evaluate any ambiguities or unclear statements within the Requirements Common to all Modes subsection.)\n",
        "\"\"\"\n",
        "\n",
        "ambi_alarm_prompt = \"\"\"\n",
        "The following contains an excerpt from a detailed software requirements specification of a Mechanical Lung Ventilator, provided between triple backticks, consisting solely of the Alarms section. Evaluate the content for ambiguities, unclear statements, or potential misunderstandings, and document any identified issues.\n",
        "Based on the content given:\n",
        "1. Are there any ambiguities or unclear statements present in the Alarms section as a whole? (Evaluate any ambiguities or unclear statements between the section and all its sub-sections in the Alarms section.)\n",
        "2. Are there any ambiguities or unclear statements within the Alarms table? (Evaluate any ambiguities or unclear statements within the Alarms table.)\n",
        "3. Are there any ambiguities or unclear statements within the Alarm list subsection? (Evaluate any ambiguities or unclear statements within the Alarm list subsection.)\n",
        "4. Are there any ambiguities or unclear statements within the Visual alarm signals subsection? (Evaluate any ambiguities or unclear statements within the Visual alarm signals subsection.)\n",
        "\"\"\""
      ]
    },
    {
      "cell_type": "markdown",
      "source": [
        "# Local with Global Context"
      ],
      "metadata": {
        "id": "M7ZcwMgpWQns"
      }
    },
    {
      "cell_type": "code",
      "source": [
        "# Full context section-wise prompts\n",
        "\n",
        "comp_introduction_ctx_prompt = 'The following contains the detailed software requirements specification of a Mechanical Lung Ventilator, provided between triple backticks, consisting of Introduction, System Requirements, GUI Requirements, Controller Requirements, and Alarm List sections. Evaluate the content for incompleteness or missing details, and document any identified issues.\\nBased on the content given:\\n1. Are there any incomplete and/or missing details specifically about the Mechanical Lung Ventilator?\\n2. Are there any incomplete and/or missing details in the Introduction section as a whole?\\n'\n",
        "comp_system_ctx_prompt = 'The following contains the detailed software requirements specification of a Mechanical Lung Ventilator, provided between triple backticks, consisting of Introduction, System Requirements, GUI Requirements, Controller Requirements, and Alarm List sections. Evaluate the content for incompleteness or missing details, and document any identified issues.\\nBased on the content given:\\n1. Are there any incomplete and/or missing details in the System Requirements section as a whole? (Evaluate all sub-sections in the System Requirements whether any necessary information is lacking or if there are gaps in coverage based on industry standards, regulations, or best practices.)\\n2. Is the Functional Requirements table, including the fields for ID, Requirement/Rationale, and Input Reference, complete? (Assess whether all required fields are adequately filled out and whether any crucial details are missing from the table.)\\n3. Is the Measured and Displayed Parameters table, including the fields for ID, Requirement/Rationale, and Input Reference, complete? (Assess whether all required fields are adequately filled out and whether any crucial details are missing from the table.)\\n4. In the Values and Ranges sub-section, is the Common values and ranges table, including the fields for ID, Requirement/Rationale, and Input Reference, complete? (Assess whether all required fields are adequately filled out and whether any crucial details are missing from the table.)\\n5. In the Values and Ranges sub-section, is the Default values and ranges for PCV parameters table, including the fields for ID, Requirement/Rationale, and Input Reference, complete? (Assess whether all required fields are adequately filled out and whether any crucial details are missing from the table.)\\n6. In the Values and Ranges sub-section, is the Default values and ranges for PSV parameters table, including the fields for ID, Requirement/Rationale, and Input Reference, complete? (Assess whether all required fields are adequately filled out and whether any crucial details are missing from the table.)\\n7. In the Values and Ranges sub-section, is the Default Alarm Thresholds Values and Ranges table, including the fields for ID, Requirement/Rationale, and Input Reference, complete? (Assess whether all required fields are adequately filled out and whether any crucial details are missing from the table.)\\n8. In the Sensors and Interfaces sub-section, is the Interface between GUI and controller table, including the fields for ID, Requirement/Rationale, and Input Reference, complete? (Assess whether all required fields are adequately filled out and whether any crucial details are missing from the table.)\\n9. In the Sensors and Interfaces sub-section, is the Interface between Hardware and controller table, including the fields for ID, Requirement/Rationale, and Input Reference, complete? (Assess whether all required fields are adequately filled out and whether any crucial details are missing from the table.)\\n10. In the Sensors and Interfaces sub-section, is the Alarm Requirements table, including the fields for ID, Requirement/Rationale, and Input Reference, complete? (Assess whether all required fields are adequately filled out and whether any crucial details are missing from the table.)\\n'\n",
        "comp_gui_ctx_prompt = 'The following contains the detailed software requirements specification of a Mechanical Lung Ventilator, provided between triple backticks, consisting of Introduction, System Requirements, GUI Requirements, Controller Requirements, and Alarm List sections. Evaluate the content for incompleteness or missing details, and document any identified issues.\\nBased on the content given:\\n1. Are there any incomplete and/or missing details in the GUI Requirements section as a whole? (Evaluate all sub-sections in the GUI Requirements whether any necessary information is lacking or if there are gaps in coverage based on industry standards, regulations, or best practices.)\\n2. Is the GUI Requirements table, including the fields for ID, Requirement/Rationale, and Input Reference, complete? (Assess whether all required fields are adequately filled out and whether any crucial details are missing from the table.)\\n3. Is the Start-up Mode table, including the fields for ID, Requirement/Rationale, and Input Reference, complete? (Assess whether all required fields are adequately filled out and whether any crucial details are missing from the table.)\\n4. In the Start-up Mode sub-section, is the Start-up Configuration Parameters table, including the fields for ID, Requirement/Rationale, and Input Reference, complete? (Assess whether all required fields are adequately filled out and whether any crucial details are missing from the table.)\\n5. Is the Start Mode table, including the fields for ID, Requirement/Rationale, and Input Reference, complete? (Assess whether all required fields are adequately filled out and whether any crucial details are missing from the table.)\\n6. Is the Menu Mode table, including the fields for ID, Requirement/Rationale, and Input Reference, complete? (Assess whether all required fields are adequately filled out and whether any crucial details are missing from the table.)\\n7. Is the Self-Test Mode table, including the fields for ID, Requirement/Rationale, and Input Reference, complete? (Assess whether all required fields are adequately filled out and whether any crucial details are missing from the table.)\\n8. Is the Ventilation Mode table, including the fields for ID, Requirement/Rationale, and Input Reference, complete? (Assess whether all required fields are adequately filled out and whether any crucial details are missing from the table.)\\n9. Is the Show Real Time Data Mode table, including the fields for ID, Requirement/Rationale, and Input Reference, complete? (Assess whether all required fields are adequately filled out and whether any crucial details are missing from the table.)\\n10. Is the Settings Mode table, including the fields for ID, Requirement/Rationale, and Input Reference, complete? (Assess whether all required fields are adequately filled out and whether any crucial details are missing from the table.)\\n11. Is the Frozen Mode table, including the fields for ID, Requirement/Rationale, and Input Reference, complete? (Assess whether all required fields are adequately filled out and whether any crucial details are missing from the table.)\\n12. Is the Alarm settings Mode table, including the fields for ID, Requirement/Rationale, and Input Reference, complete? (Assess whether all required fields are adequately filled out and whether any crucial details are missing from the table.)\\n'\n",
        "comp_controller_ctx_prompt = 'The following contains the detailed software requirements specification of a Mechanical Lung Ventilator, provided between triple backticks, consisting of Introduction, System Requirements, GUI Requirements, Controller Requirements, and Alarm List sections. Evaluate the content for incompleteness or missing details, and document any identified issues.\\nBased on the content given:\\n1. Are there any incomplete and/or missing details in the Controller Requirements section as a whole? (Evaluate all sub-sections in the Controller Requirements whether any necessary information is lacking or if there are gaps in coverage based on industry standards, regulations, or best practices.)\\n2. Is the Controller Requirements table, including the fields for ID, Requirement/Rationale, and Input Reference, complete? (Assess whether all required fields are adequately filled out and whether any crucial details are missing from the table.)\\n3. Is the Start-up Mode table, including the fields for ID, Requirement/Rationale, and Input Reference, complete? (Assess whether all required fields are adequately filled out and whether any crucial details are missing from the table.)\\n4. Is the SelfTest Mode table, including the fields for ID, Requirement/Rationale, and Input Reference, complete? (Assess whether all required fields are adequately filled out and whether any crucial details are missing from the table.)\\n5. Is the PCV Mode table, including the fields for ID, Requirement/Rationale, and Input Reference, complete? (Assess whether all required fields are adequately filled out and whether any crucial details are missing from the table.)\\n6. Is the PSV Mode table, including the fields for ID, Requirement/Rationale, and Input Reference, complete? (Assess whether all required fields are adequately filled out and whether any crucial details are missing from the table.)\\n7. Is the Requirements Common to all Modes table, including the fields for ID, Requirement/Rationale, and Input Reference, complete? (Assess whether all required fields are adequately filled out and whether any crucial details are missing from the table.)\\n'\n",
        "comp_alarm_ctx_prompt = 'The following contains the detailed software requirements specification of a Mechanical Lung Ventilator, provided between triple backticks, consisting of Introduction, System Requirements, GUI Requirements, Controller Requirements, and Alarm List sections. Evaluate the content for incompleteness or missing details, and document any identified issues.\\nBased on the content given:\\n1. Are there any incomplete and/or missing details in the Alarms section as a whole? (Evaluate all sub-sections in the Alarm Requirements whether any necessary information is lacking or if there are gaps in coverage based on industry standards, regulations, or best practices.)\\n2. Is the Alarms table, including the fields for ID, Requirement/Rationale, and Input Reference, complete? (Assess whether all required fields are adequately filled out and whether any crucial details are missing from the table.)\\n3. Is the Alarms List table, including the fields for ID, Requirement/Rationale, and Input Reference, complete? (Assess whether all required fields are adequately filled out and whether any crucial details are missing from the table.)\\n4. Is the Visual Alarm Signals table, including the fields for ID, Requirement/Rationale, and Input Reference, complete? (Assess whether all required fields are adequately filled out and whether any crucial details are missing from the table.)\\n'\n",
        "cont_introduction_ctx_prompt = 'The following contains the detailed software requirements specification of a Mechanical Lung Ventilator, provided between triple backticks, consisting of Introduction, System Requirements, GUI Requirements, Controller Requirements, and Alarm List sections. Evaluate the content for incompleteness or missing details, and document any identified issues.\\nBased on the content given:\\n1. Are there any inconsistencies and/or contradictions present in the Introduction section as a whole?\\n2. Are there any inconsistencies and/or contradictions present specifically in the details about the Mechanical Lung Ventilator?\\n'\n",
        "cont_system_ctx_prompt = 'The following contains the detailed software requirements specification of a Mechanical Lung Ventilator, provided between triple backticks, consisting of Introduction, System Requirements, GUI Requirements, Controller Requirements, and Alarm List sections. Evaluate the content for incompleteness or missing details, and document any identified issues.\\nBased on the content given:\\n1. Are there any inconsistencies and/or contradictions present in the System Requirements section as a whole? (Evaluate any inconsistencies or contradictions between all the sub-sections in the System Requirements section.)\\n2. Are there any inconsistencies and/or contradictions within the Functional Requirements table? (Evaluate any inconsistencies or contradictions within the Functional Requirements table.)\\n3. Are there any inconsistencies and/or contradictions within the Measured and Displayed Parameters table? (Evaluate any inconsistencies or contradictions within the Measured and Displayed Parameters table.)\\n4. Are there any inconsistencies and/or contradictions within the Values and Ranges sub-section? (Evaluate any inconsistencies or contradictions within the Values and Ranges sub-section.)\\n5. Are there any inconsistencies and/or contradictions within the Sensors and Interfaces sub-section? (Evaluate any inconsistencies or contradictions within the Sensors and Interfaces sub-section.)\\n6. Are there any inconsistencies and/or contradictions within the Alarm Requirements? (Evaluate any inconsistencies or contradictions within the Alarm Requirements.)\\n'\n",
        "cont_gui_ctx_prompt = 'The following contains the detailed software requirements specification of a Mechanical Lung Ventilator, provided between triple backticks, consisting of Introduction, System Requirements, GUI Requirements, Controller Requirements, and Alarm List sections. Evaluate the content for incompleteness or missing details, and document any identified issues.\\nBased on the content given:\\n1. Are there any inconsistencies and/or contradictions present in the GUI Requirements section as a whole? (Evaluate any inconsistencies or contradictions between all the sub-sections in the GUI Requirements section.)\\n2. Are there any inconsistencies and/or contradictions within the GUI Requirements table? (Evaluate any inconsistencies or contradictions within the GUI Requirements table.)\\n3. Are there any inconsistencies and/or contradictions within the Start-up Mode subsection? (Evaluate any inconsistencies or contradictions within the Start-up Mode subsection.)\\n4. Are there any inconsistencies and/or contradictions within the Start Mode subsection? (Evaluate any inconsistencies or contradictions within the Start Mode subsection.)\\n5. Are there any inconsistencies and/or contradictions within the Menu Mode subsection? (Evaluate any inconsistencies or contradictions within the Menu Mode subsection.)\\n6. Are there any inconsistencies and/or contradictions within the Self-Test Mode subsection? (Evaluate any inconsistencies or contradictions within the Self-Test Mode subsection.)\\n7. Are there any inconsistencies and/or contradictions within the Ventilation Mode subsection? (Evaluate any inconsistencies or contradictions within the Ventilation Mode subsection.)\\n8. Are there any inconsistencies and/or contradictions within the Show Real Time Data Mode subsection? (Evaluate any inconsistencies or contradictions within the Show Real Time Data Mode subsection.)\\n9. Are there any inconsistencies and/or contradictions within the Settings Mode subsection? (Evaluate any inconsistencies or contradictions within the Settings Mode subsection.)\\n10. Are there any inconsistencies and/or contradictions within the Frozen Mode subsection? (Evaluate any inconsistencies or contradictions within the Frozen Mode subsection.)\\n11. Are there any inconsistencies and/or contradictions within the Alarm settings Mode subsection? (Evaluate any inconsistencies or contradictions within the Alarm settings Mode subsection.)\\n'\n",
        "cont_controller_ctx_prompt = 'The following contains the detailed software requirements specification of a Mechanical Lung Ventilator, provided between triple backticks, consisting of Introduction, System Requirements, GUI Requirements, Controller Requirements, and Alarm List sections. Evaluate the content for incompleteness or missing details, and document any identified issues.\\nBased on the content given:\\n1. Are there any inconsistencies and/or contradictions present in the Controller Requirements section as a whole? (Evaluate any inconsistencies or contradictions between all the sub-sections in the Controller Requirements section.)\\n2. Are there any inconsistencies and/or contradictions within the Controller requirements table? (Evaluate any inconsistencies or contradictions within the Controller Requirements table.)\\n3. Are there any inconsistencies and/or contradictions within the Start-up Mode subsection? (Evaluate any inconsistencies or contradictions within the Start-up Mode subsection.)\\n4. Are there any inconsistencies and/or contradictions within the SelfTest Mode subsection? (Evaluate any inconsistencies or contradictions within the SelfTest Mode subsection.)\\n5. Are there any inconsistencies and/or contradictions within the PCV Mode subsection? (Evaluate any inconsistencies or contradictions within the PCV Mode subsection.)\\n6. Are there any inconsistencies and/or contradictions within the PSV Mode subsection? (Evaluate any inconsistencies or contradictions within the PSV Mode subsection.)\\n7. Are there any inconsistencies and/or contradictions within the Requirements Common to all Modes subsection? (Evaluate any inconsistencies or contradictions within the Requirements Common to all Modes subsection.)\\n'\n",
        "cont_alarm_ctx_prompt = 'The following contains the detailed software requirements specification of a Mechanical Lung Ventilator, provided between triple backticks, consisting of Introduction, System Requirements, GUI Requirements, Controller Requirements, and Alarm List sections. Evaluate the content for incompleteness or missing details, and document any identified issues.\\nBased on the content given:\\n1. Are there any inconsistencies and/or contradictions present in the Alarms section as a whole? (Evaluate any inconsistencies or contradictions between all the sub-sections in the Alarms section.)\\n2. Are there any inconsistencies and/or contradictions within the Alarms table? (Evaluate any inconsistencies or contradictions within the Alarms table.)\\n3. Are there any inconsistencies and/or contradictions within the Alarm list subsection? (Evaluate any inconsistencies or contradictions within the Alarm list subsection.)\\n4. Are there any inconsistencies and/or contradictions within the Visual alarm signals subsection? (Evaluate any inconsistencies or contradictions within the Visual alarm signals subsection.)\\n'\n",
        "ambi_introduction_ctx_prompt = 'The following contains the detailed software requirements specification of a Mechanical Lung Ventilator, provided between triple backticks, consisting of Introduction, System Requirements, GUI Requirements, Controller Requirements, and Alarm List sections. Evaluate the content for incompleteness or missing details, and document any identified issues.\\nBased on the content given:\\n1. Are there any ambiguities or unclear statements in the Introduction section as a whole?\\n2. Are there any ambiguities or unclear statements in the Mechanical lung ventilator subsection?\\n3. Are there any ambiguities or unclear statements in the Structure of the document subsection?\\n4. Are there any ambiguities or unclear statements in the Suggested outcomes subsection?\\n'\n",
        "ambi_system_ctx_prompt = 'The following contains the detailed software requirements specification of a Mechanical Lung Ventilator, provided between triple backticks, consisting of Introduction, System Requirements, GUI Requirements, Controller Requirements, and Alarm List sections. Evaluate the content for incompleteness or missing details, and document any identified issues.\\nBased on the content given:\\n1. Are there any ambiguities or unclear statements present in the System Requirements section as a whole? (Evaluate any ambiguities or unclear statements between all the sub-sections in the System Requirements section.)\\n2. Are there any ambiguities or unclear statements within the Functional Requirements table? (Evaluate any ambiguities or unclear statements within the Functional Requirements table.)\\n3. Are there any ambiguities or unclear statements within the Measured and Displayed Parameters table? (Evaluate any ambiguities or unclear statements within the Measured and Displayed Parameters table.)\\n4. Are there any ambiguities or unclear statements within the Values and Ranges sub-section? (Evaluate any ambiguities or unclear statements within the Values and Ranges sub-section.)\\n5. Are there any ambiguities or unclear statements within the Sensors and Interfaces sub-section? (Evaluate any ambiguities or unclear statements within the Sensors and Interfaces sub-section.)\\n6. Are there any ambiguities or unclear statements within the Alarm Requirements? (Evaluate any ambiguities or unclear statements within the Alarm Requirements.)\\n'\n",
        "ambi_gui_ctx_prompt = 'The following contains the detailed software requirements specification of a Mechanical Lung Ventilator, provided between triple backticks, consisting of Introduction, System Requirements, GUI Requirements, Controller Requirements, and Alarm List sections. Evaluate the content for incompleteness or missing details, and document any identified issues.\\nBased on the content given:\\n1. Are there any ambiguities or unclear statements present in the GUI Requirements section as a whole? (Evaluate any ambiguities or unclear statements between the section and all its sub-sections in the GUI Requirements section.)\\n2. Are there any ambiguities or unclear statements within the GUI Requirements table? (Evaluate any ambiguities or unclear statements within the GUI Requirements table.)\\n3. Are there any ambiguities or unclear statements within the Start-up Mode subsection? (Evaluate any ambiguities or unclear statements within the Start-up Mode subsection.)\\n4. Are there any ambiguities or unclear statements within the Start Mode subsection? (Evaluate any ambiguities or unclear statements within the Start Mode subsection.)\\n5. Are there any ambiguities or unclear statements within the Menu Mode subsection? (Evaluate any ambiguities or unclear statements within the Menu Mode subsection.)\\n6. Are there any ambiguities or unclear statements within the Self-Test Mode subsection? (Evaluate any ambiguities or unclear statements within the Self-Test Mode subsection.)\\n7. Are there any ambiguities or unclear statements within the Ventilation Mode subsection? (Evaluate any ambiguities or unclear statements within the Ventilation Mode subsection.)\\n8. Are there any ambiguities or unclear statements within the Show Real Time Data Mode subsection? (Evaluate any ambiguities or unclear statements within the Show Real Time Data Mode subsection.)\\n9. Are there any ambiguities or unclear statements within the Settings Mode subsection? (Evaluate any ambiguities or unclear statements within the Settings Mode subsection.)\\n10. Are there any ambiguities or unclear statements within the Frozen Mode subsection? (Evaluate any ambiguities or unclear statements within the Frozen Mode subsection.)\\n11. Are there any ambiguities or unclear statements within the Alarm settings Mode subsection? (Evaluate any ambiguities or unclear statements within the Alarm settings Mode subsection.)\\n'\n",
        "ambi_controller_ctx_prompt = 'The following contains the detailed software requirements specification of a Mechanical Lung Ventilator, provided between triple backticks, consisting of Introduction, System Requirements, GUI Requirements, Controller Requirements, and Alarm List sections. Evaluate the content for incompleteness or missing details, and document any identified issues.\\nBased on the content given:\\n1. Are there any ambiguities or unclear statements present in the Controller Requirements section as a whole? (Evaluate any ambiguities or unclear statements between the section and all its sub-sections in the Controller Requirements section.)\\n2. Are there any ambiguities or unclear statements within the Controller requirements table? (Evaluate any ambiguities or unclear statements within the Controller Requirements table.)\\n3. Are there any ambiguities or unclear statements within the Start-up Mode subsection? (Evaluate any ambiguities or unclear statements within the Start-up Mode subsection.)\\n4. Are there any ambiguities or unclear statements within the SelfTest Mode subsection? (Evaluate any ambiguities or unclear statements within the SelfTest Mode subsection.)\\n5. Are there any ambiguities or unclear statements within the PCV Mode subsection? (Evaluate any ambiguities or unclear statements within the PCV Mode subsection.)\\n6. Are there any ambiguities or unclear statements within the PSV Mode subsection? (Evaluate any ambiguities or unclear statements within the PSV Mode subsection.)\\n7. Are there any ambiguities or unclear statements within the Requirements Common to all Modes subsection? (Evaluate any ambiguities or unclear statements within the Requirements Common to all Modes subsection.)\\n'\n",
        "ambi_alarm_ctx_prompt = 'The following contains the detailed software requirements specification of a Mechanical Lung Ventilator, provided between triple backticks, consisting of Introduction, System Requirements, GUI Requirements, Controller Requirements, and Alarm List sections. Evaluate the content for incompleteness or missing details, and document any identified issues.\\nBased on the content given:\\n1. Are there any ambiguities or unclear statements present in the Alarms section as a whole? (Evaluate any ambiguities or unclear statements between the section and all its sub-sections in the Alarms section.)\\n2. Are there any ambiguities or unclear statements within the Alarms table? (Evaluate any ambiguities or unclear statements within the Alarms table.)\\n3. Are there any ambiguities or unclear statements within the Alarm list subsection? (Evaluate any ambiguities or unclear statements within the Alarm list subsection.)\\n4. Are there any ambiguities or unclear statements within the Visual alarm signals subsection? (Evaluate any ambiguities or unclear statements within the Visual alarm signals subsection.)\\n'"
      ],
      "metadata": {
        "id": "C3YRgeQvWV3e"
      },
      "execution_count": null,
      "outputs": []
    },
    {
      "cell_type": "markdown",
      "metadata": {
        "id": "lsvSIk366CmU"
      },
      "source": [
        "# Specific Issues / Questions"
      ]
    },
    {
      "cell_type": "code",
      "execution_count": null,
      "metadata": {
        "id": "DMIPuYLTcdFG"
      },
      "outputs": [],
      "source": [
        "issue_text_map = {\n",
        "  '2': 'Is it possible to set ventilation parameters while having the patient connected. According to FUN10.5, this is forbidden. But Figure 2 allows that.',\n",
        "  '3': 'Is the function \"start ventilation\" available only if the patient is connected? If no, what happens if the start ventilation is selected without having the patient connected? In other words, is the following scenario possible (we are in the standby mode): Select the \"start ventilation\". Connect the patient. The ventilation starts',\n",
        "  '4': 'For FUN20 I can now see how breathingCycle start/end, and expirationPhase start/end can be defined, but in FUN 25 and 26, I can only see when the breathing cycle starts and when the expiration phase starts, but not how either of them finish. Perhaps I am not interpreting the graphs correctly. Could you tell me how the breathing cycle ends and expiration phase ends in PSV mode?',\n",
        "  '5a': 'FUN.9 says \"Once the self-test has been completed successfully and configurations have been loaded properly the system shall start monitoring and reporting health parameters.\" is this supposed to indicate a mode change to \\'Ventilation Mode\\' (as per Figure 2.1)?',\n",
        "  '5b': 'FUN.9 triggers the transition to Standby Mode but so does FUN10.4. Is there a reason for this repetition?',\n",
        "  '6': 'In several places, requirements have sub-requirements (e.g. FUN.5 then has FUN.5.1 -- FUN.5.3) that seem to add detail/support the \\'main\\' requirement. In other places, however, (e.g. FUN.4) there is a lot of detail contained in one requirement. I was wondering, in general, what your view of the relationship is between a requirement and its sub-requirements. For example, are they extra clauses in addition to the main requirement? Do the sub-requirements combine to \\'implement\\' what the main requirement says? Or is it something else?',\n",
        "  '8a': 'In a normal case, does start-up-ended of the controller occur before that of the GUI?',\n",
        "  '8b': 'In a normal case, can GUI be faster than the controller? Can GUI be in the state Start before the controller was in the state SelfTest.',\n",
        "  '8c': 'For the point 3, I think that when the controller is in the state SelfTest, the GUI may be either in the state Start or SelfTest or even in the state StartUp.',\n",
        "  '12': 'Unless I\\'m mistaken, I did not see default/rang values for max_exp_pause and max_ins_pause.',\n",
        "  '14a': 'Is it acceptable to start ventilation for a new patient without setting the desired parameters for that patient? According to Figure 3.1, it is possible. That means ventilation will be performed with default values?',\n",
        "  '14b': 'Some parameters (PEEP, FiO2, ...) do not have default values. Does this mean that any value (belonging to the range) can be chosen in the StartUp mode?',\n",
        "  '16a': 'According to the requirement document, the system should measure and display some parameters. However, no information is given about how they are calculated: Peak Pinsp, Vtidal, PAW, etc.',\n",
        "  '16b': 'The system should measure some parameters, like FiO2 and PEEP, while these parameters are set by the user. May the measured values be different from that set by the user?',\n",
        "  '17': 'When the user updates the parameters during a ventilation (inspiration or expiration), does this imply that the inspiration/expiration duration is updated too?',\n",
        "  '18': 'There should be a sensor that give the state of each valve to the controller. No such sensor is described in Page 20. From my understanding, the valves can fail. In general, It should be a sensor for each information read by the controller. Can we consider sensors as safe? What do you think?',\n",
        "  '19': 'AL44 and AL 45: How can the controller drive the valves to their safe states if they have a failure? Do you mean that the controller can force them?',\n",
        "  '15': 'Why is Target inspiratory pressure (P_insp) not considered as a common parameter for PSV and PVS? Same question for ITS. Why do we have ITS and ITS_psv?',\n",
        "}"
      ]
    },
    {
      "cell_type": "code",
      "execution_count": null,
      "metadata": {
        "id": "5wT29n0j6Kdp"
      },
      "outputs": [],
      "source": [
        "#### NEED TO MODIFY THIS\n",
        "\n",
        "issues_global_prompt = \"\"\"\n",
        "The following contains the detailed software requirements specification of a Mechanical Lung Ventilator, provided between triple backticks, consisting of Introduction, System Requirements, GUI Requirements, Controller Requirements, and Alarms sections.\n",
        "Based on the content given answer the following question raised as issues:\n",
        "Issue #2: Moreover, is it possible to set ventilation parameters while having the patient connected. According to FUN10.5, this is forbidden. But Figure 2 allows that.\n",
        "Issue #3: Is the function \"start ventilation\" available only if the patient is connected? If no, what happens if the start ventilation is selected without having the patient connected? In other words, is the following scenario possible (we are in the standby mode): Select the \"start ventilation\". Connect the patient. The ventilation starts\n",
        "Issue #4: For FUN20 I can now see how breathingCycle start/end, and expirationPhase start/end can be defined, but in FUN 25 and 26, I can only see when the breathing cycle starts and when the expiration phase starts, but not how either of them finish. Perhaps I am not interpreting the graphs correctly. Could you tell me how the breathing cycle ends and expiration phase ends in PSV mode?\n",
        "Issue #5a: FUN.9 says \"Once the self-test has been completed successfully and configurations have been loaded properly the system shall start monitoring and reporting health parameters.\" is this supposed to indicate a mode change to 'Ventilation Mode' (as per Figure 2.1)?\n",
        "Issue #5b: FUN.9 triggers the transition to Standby Mode but so does FUN10.4. Is there a reason for this repetition?\n",
        "Issue #6: In several places, requirements have sub-requirements (e.g. FUN.5 then has FUN.5.1 -- FUN.5.3) that seem to add detail/support the 'main' requirement. In other places, however, (e.g. FUN.4) there is a lot of detail contained in one requirement. I was wondering, in general, what your view of the relationship is between a requirement and its sub-requirements. For example, are they extra clauses in addition to the main requirement? Do the sub-requirements combine to 'implement' what the main requirement says? Or is it something else?\n",
        "Issue #8a: In a normal case, does start-up-ended of the controller occur before that of the GUI?\n",
        "Issue #8b: In a normal case, can GUI be faster than the controller? Can GUI be in the state Start before the controller was in the state SelfTest.\n",
        "Issue #8c: For the point 3, I think that when the controller is in the state SelfTest, the GUI may be either in the state Start or SelfTest or even in the state StartUp.\n",
        "Issue #12: Unless I'm mistaken, I did not see default/rang values for max_exp_pause and max_ins_pause.\n",
        "Issue #14a: Is it acceptable to start ventilation for a new patient without setting the desired parameters for that patient? According to Figure 3.1, it is possible. That means ventilation will be performed with default values?\n",
        "Issue #14b: Some parameters (PEEP, FiO2, ...) do not have default values. Does this mean that any value (belonging to the range) can be chosen in the StartUp mode?\n",
        "Issue #16a: According to the requirement document, the system should measure and display some parameters. However, no information is given about how they are calculated: Peak Pinsp, Vtidal, PAW, etc.\n",
        "Issue #16b: The system should measure some parameters, like FiO2 and PEEP, while these parameters are set by the user. May the measured values be different from that set by the user?\n",
        "Issue #17: When the user updates the parameters during a ventilation (inspiration or expiration), does this imply that the inspiration/expiration duration is updated too?\n",
        "Issue #18: There should be a sensor that give the state of each valve to the controller. No such sensor is described in Page 20. From my understanding, the valves can fail. In general, It should be a sensor for each information read by the controller. Can we consider sensors as safe? What do you think?\n",
        "Issue #19: AL44 and AL 45: How can the controller drive the valves to their safe states if they have a failure? Do you mean that the controller can force them?\n",
        "Issue #15: Why is Target inspiratory pressure (P_insp) not considered as a common parameter for PSV and PVS? Same question for ITS. Why do we have ITS and ITS_psv?\n",
        "\"\"\""
      ]
    },
    {
      "cell_type": "markdown",
      "metadata": {
        "id": "twGOuj7nTu7w"
      },
      "source": [
        "# Running the model"
      ]
    },
    {
      "cell_type": "code",
      "execution_count": null,
      "metadata": {
        "id": "XSrPalYnZLD1"
      },
      "outputs": [],
      "source": [
        "#################### DEFINE WHICH FOLDER TO USE\n",
        "\n",
        "fnumber = str(0)  # for paper 5"
      ]
    },
    {
      "cell_type": "code",
      "execution_count": null,
      "metadata": {
        "colab": {
          "base_uri": "https://localhost:8080/",
          "height": 304
        },
        "id": "VRAhdMNNZpcs",
        "outputId": "f56a1ca1-6300-4b37-b0b9-0e4d00621820"
      },
      "outputs": [
        {
          "output_type": "error",
          "ename": "MessageError",
          "evalue": "Error: credential propagation was unsuccessful",
          "traceback": [
            "\u001b[0;31m---------------------------------------------------------------------------\u001b[0m",
            "\u001b[0;31mMessageError\u001b[0m                              Traceback (most recent call last)",
            "\u001b[0;32m<ipython-input-2-a145c0899d7d>\u001b[0m in \u001b[0;36m<cell line: 2>\u001b[0;34m()\u001b[0m\n\u001b[1;32m      1\u001b[0m \u001b[0;32mfrom\u001b[0m \u001b[0mgoogle\u001b[0m\u001b[0;34m.\u001b[0m\u001b[0mcolab\u001b[0m \u001b[0;32mimport\u001b[0m \u001b[0mdrive\u001b[0m\u001b[0;34m\u001b[0m\u001b[0;34m\u001b[0m\u001b[0m\n\u001b[0;32m----> 2\u001b[0;31m \u001b[0mdrive\u001b[0m\u001b[0;34m.\u001b[0m\u001b[0mmount\u001b[0m\u001b[0;34m(\u001b[0m\u001b[0;34m'/content/drive'\u001b[0m\u001b[0;34m,\u001b[0m \u001b[0mforce_remount\u001b[0m\u001b[0;34m=\u001b[0m\u001b[0;32mTrue\u001b[0m\u001b[0;34m)\u001b[0m\u001b[0;34m\u001b[0m\u001b[0;34m\u001b[0m\u001b[0m\n\u001b[0m",
            "\u001b[0;32m/usr/local/lib/python3.10/dist-packages/google/colab/drive.py\u001b[0m in \u001b[0;36mmount\u001b[0;34m(mountpoint, force_remount, timeout_ms, readonly)\u001b[0m\n\u001b[1;32m     98\u001b[0m \u001b[0;32mdef\u001b[0m \u001b[0mmount\u001b[0m\u001b[0;34m(\u001b[0m\u001b[0mmountpoint\u001b[0m\u001b[0;34m,\u001b[0m \u001b[0mforce_remount\u001b[0m\u001b[0;34m=\u001b[0m\u001b[0;32mFalse\u001b[0m\u001b[0;34m,\u001b[0m \u001b[0mtimeout_ms\u001b[0m\u001b[0;34m=\u001b[0m\u001b[0;36m120000\u001b[0m\u001b[0;34m,\u001b[0m \u001b[0mreadonly\u001b[0m\u001b[0;34m=\u001b[0m\u001b[0;32mFalse\u001b[0m\u001b[0;34m)\u001b[0m\u001b[0;34m:\u001b[0m\u001b[0;34m\u001b[0m\u001b[0;34m\u001b[0m\u001b[0m\n\u001b[1;32m     99\u001b[0m   \u001b[0;34m\"\"\"Mount your Google Drive at the specified mountpoint path.\"\"\"\u001b[0m\u001b[0;34m\u001b[0m\u001b[0;34m\u001b[0m\u001b[0m\n\u001b[0;32m--> 100\u001b[0;31m   return _mount(\n\u001b[0m\u001b[1;32m    101\u001b[0m       \u001b[0mmountpoint\u001b[0m\u001b[0;34m,\u001b[0m\u001b[0;34m\u001b[0m\u001b[0;34m\u001b[0m\u001b[0m\n\u001b[1;32m    102\u001b[0m       \u001b[0mforce_remount\u001b[0m\u001b[0;34m=\u001b[0m\u001b[0mforce_remount\u001b[0m\u001b[0;34m,\u001b[0m\u001b[0;34m\u001b[0m\u001b[0;34m\u001b[0m\u001b[0m\n",
            "\u001b[0;32m/usr/local/lib/python3.10/dist-packages/google/colab/drive.py\u001b[0m in \u001b[0;36m_mount\u001b[0;34m(mountpoint, force_remount, timeout_ms, ephemeral, readonly)\u001b[0m\n\u001b[1;32m    131\u001b[0m   )\n\u001b[1;32m    132\u001b[0m   \u001b[0;32mif\u001b[0m \u001b[0mephemeral\u001b[0m\u001b[0;34m:\u001b[0m\u001b[0;34m\u001b[0m\u001b[0;34m\u001b[0m\u001b[0m\n\u001b[0;32m--> 133\u001b[0;31m     _message.blocking_request(\n\u001b[0m\u001b[1;32m    134\u001b[0m         \u001b[0;34m'request_auth'\u001b[0m\u001b[0;34m,\u001b[0m \u001b[0mrequest\u001b[0m\u001b[0;34m=\u001b[0m\u001b[0;34m{\u001b[0m\u001b[0;34m'authType'\u001b[0m\u001b[0;34m:\u001b[0m \u001b[0;34m'dfs_ephemeral'\u001b[0m\u001b[0;34m}\u001b[0m\u001b[0;34m,\u001b[0m \u001b[0mtimeout_sec\u001b[0m\u001b[0;34m=\u001b[0m\u001b[0;32mNone\u001b[0m\u001b[0;34m\u001b[0m\u001b[0;34m\u001b[0m\u001b[0m\n\u001b[1;32m    135\u001b[0m     )\n",
            "\u001b[0;32m/usr/local/lib/python3.10/dist-packages/google/colab/_message.py\u001b[0m in \u001b[0;36mblocking_request\u001b[0;34m(request_type, request, timeout_sec, parent)\u001b[0m\n\u001b[1;32m    174\u001b[0m       \u001b[0mrequest_type\u001b[0m\u001b[0;34m,\u001b[0m \u001b[0mrequest\u001b[0m\u001b[0;34m,\u001b[0m \u001b[0mparent\u001b[0m\u001b[0;34m=\u001b[0m\u001b[0mparent\u001b[0m\u001b[0;34m,\u001b[0m \u001b[0mexpect_reply\u001b[0m\u001b[0;34m=\u001b[0m\u001b[0;32mTrue\u001b[0m\u001b[0;34m\u001b[0m\u001b[0;34m\u001b[0m\u001b[0m\n\u001b[1;32m    175\u001b[0m   )\n\u001b[0;32m--> 176\u001b[0;31m   \u001b[0;32mreturn\u001b[0m \u001b[0mread_reply_from_input\u001b[0m\u001b[0;34m(\u001b[0m\u001b[0mrequest_id\u001b[0m\u001b[0;34m,\u001b[0m \u001b[0mtimeout_sec\u001b[0m\u001b[0;34m)\u001b[0m\u001b[0;34m\u001b[0m\u001b[0;34m\u001b[0m\u001b[0m\n\u001b[0m",
            "\u001b[0;32m/usr/local/lib/python3.10/dist-packages/google/colab/_message.py\u001b[0m in \u001b[0;36mread_reply_from_input\u001b[0;34m(message_id, timeout_sec)\u001b[0m\n\u001b[1;32m    101\u001b[0m     ):\n\u001b[1;32m    102\u001b[0m       \u001b[0;32mif\u001b[0m \u001b[0;34m'error'\u001b[0m \u001b[0;32min\u001b[0m \u001b[0mreply\u001b[0m\u001b[0;34m:\u001b[0m\u001b[0;34m\u001b[0m\u001b[0;34m\u001b[0m\u001b[0m\n\u001b[0;32m--> 103\u001b[0;31m         \u001b[0;32mraise\u001b[0m \u001b[0mMessageError\u001b[0m\u001b[0;34m(\u001b[0m\u001b[0mreply\u001b[0m\u001b[0;34m[\u001b[0m\u001b[0;34m'error'\u001b[0m\u001b[0;34m]\u001b[0m\u001b[0;34m)\u001b[0m\u001b[0;34m\u001b[0m\u001b[0;34m\u001b[0m\u001b[0m\n\u001b[0m\u001b[1;32m    104\u001b[0m       \u001b[0;32mreturn\u001b[0m \u001b[0mreply\u001b[0m\u001b[0;34m.\u001b[0m\u001b[0mget\u001b[0m\u001b[0;34m(\u001b[0m\u001b[0;34m'data'\u001b[0m\u001b[0;34m,\u001b[0m \u001b[0;32mNone\u001b[0m\u001b[0;34m)\u001b[0m\u001b[0;34m\u001b[0m\u001b[0;34m\u001b[0m\u001b[0m\n\u001b[1;32m    105\u001b[0m \u001b[0;34m\u001b[0m\u001b[0m\n",
            "\u001b[0;31mMessageError\u001b[0m: Error: credential propagation was unsuccessful"
          ]
        }
      ],
      "source": [
        "from google.colab import drive\n",
        "drive.mount('/content/drive', force_remount=True)"
      ]
    },
    {
      "cell_type": "code",
      "execution_count": null,
      "metadata": {
        "colab": {
          "base_uri": "https://localhost:8080/"
        },
        "id": "nDt4qXC0aWyz",
        "outputId": "214f6680-1655-4d99-9957-83261eecc99d"
      },
      "outputs": [
        {
          "output_type": "stream",
          "name": "stdout",
          "text": [
            "Collecting openai==0.28\n",
            "  Downloading openai-0.28.0-py3-none-any.whl (76 kB)\n",
            "\u001b[?25l     \u001b[90m━━━━━━━━━━━━━━━━━━━━━━━━━━━━━━━━━━━━━━━━\u001b[0m \u001b[32m0.0/76.5 kB\u001b[0m \u001b[31m?\u001b[0m eta \u001b[36m-:--:--\u001b[0m\r\u001b[2K     \u001b[90m━━━━━━━━━━━━━━━━━━━━━━━━━━━━━━━━━━━━━━━━\u001b[0m \u001b[32m76.5/76.5 kB\u001b[0m \u001b[31m2.1 MB/s\u001b[0m eta \u001b[36m0:00:00\u001b[0m\n",
            "\u001b[?25hRequirement already satisfied: requests>=2.20 in /usr/local/lib/python3.10/dist-packages (from openai==0.28) (2.31.0)\n",
            "Requirement already satisfied: tqdm in /usr/local/lib/python3.10/dist-packages (from openai==0.28) (4.66.2)\n",
            "Requirement already satisfied: aiohttp in /usr/local/lib/python3.10/dist-packages (from openai==0.28) (3.9.5)\n",
            "Requirement already satisfied: charset-normalizer<4,>=2 in /usr/local/lib/python3.10/dist-packages (from requests>=2.20->openai==0.28) (3.3.2)\n",
            "Requirement already satisfied: idna<4,>=2.5 in /usr/local/lib/python3.10/dist-packages (from requests>=2.20->openai==0.28) (3.7)\n",
            "Requirement already satisfied: urllib3<3,>=1.21.1 in /usr/local/lib/python3.10/dist-packages (from requests>=2.20->openai==0.28) (2.0.7)\n",
            "Requirement already satisfied: certifi>=2017.4.17 in /usr/local/lib/python3.10/dist-packages (from requests>=2.20->openai==0.28) (2024.2.2)\n",
            "Requirement already satisfied: aiosignal>=1.1.2 in /usr/local/lib/python3.10/dist-packages (from aiohttp->openai==0.28) (1.3.1)\n",
            "Requirement already satisfied: attrs>=17.3.0 in /usr/local/lib/python3.10/dist-packages (from aiohttp->openai==0.28) (23.2.0)\n",
            "Requirement already satisfied: frozenlist>=1.1.1 in /usr/local/lib/python3.10/dist-packages (from aiohttp->openai==0.28) (1.4.1)\n",
            "Requirement already satisfied: multidict<7.0,>=4.5 in /usr/local/lib/python3.10/dist-packages (from aiohttp->openai==0.28) (6.0.5)\n",
            "Requirement already satisfied: yarl<2.0,>=1.0 in /usr/local/lib/python3.10/dist-packages (from aiohttp->openai==0.28) (1.9.4)\n",
            "Requirement already satisfied: async-timeout<5.0,>=4.0 in /usr/local/lib/python3.10/dist-packages (from aiohttp->openai==0.28) (4.0.3)\n",
            "Installing collected packages: openai\n",
            "Successfully installed openai-0.28.0\n"
          ]
        }
      ],
      "source": [
        "import os\n",
        "!pip install openai==0.28"
      ]
    },
    {
      "cell_type": "code",
      "execution_count": null,
      "metadata": {
        "id": "1972uKbCc4fK"
      },
      "outputs": [],
      "source": [
        "def checker(astr):\n",
        "  name = astr.split()[0].lower()\n",
        "  return name if (name in sections) else 'global'"
      ]
    },
    {
      "cell_type": "code",
      "execution_count": null,
      "metadata": {
        "colab": {
          "base_uri": "https://localhost:8080/"
        },
        "id": "N1BH4RA1Tz7S",
        "outputId": "dcd06df5-d022-46ce-a592-633301dc4710"
      },
      "outputs": [
        {
          "output_type": "execute_result",
          "data": {
            "text/plain": [
              "dict_keys(['alarm', 'controller', 'gui', 'system', 'introduction', 'global'])"
            ]
          },
          "metadata": {},
          "execution_count": 45
        }
      ],
      "source": [
        "sections = ['global', 'introduction', 'system', 'controller', 'gui', 'alarm']\n",
        "requirements = ['comp', 'cont', 'ambi']\n",
        "\n",
        "file_section = {}\n",
        "\n",
        "fpath = os.path.join('/content/drive/MyDrive/Lung Ventilator LLM/LUNG LLM/', fnumber, 'With Image Description/All Cleaned Data with Images')\n",
        "dirs = os.listdir(fpath)\n",
        "for d in dirs:\n",
        "  with open(os.path.join(fpath, d), \"r\") as f:\n",
        "    content = f.read()\n",
        "  file_section[checker(d.replace('.txt', ''))] = content\n",
        "file_section.keys()"
      ]
    },
    {
      "cell_type": "code",
      "execution_count": null,
      "metadata": {
        "id": "H36di_LWcCeQ"
      },
      "outputs": [],
      "source": [
        "import openai\n",
        "# import time\n",
        "\n",
        "openai.api_key = ''\n",
        "\n",
        "def template_str(prompt):\n",
        "  return {'role': 'user', 'content': prompt}"
      ]
    },
    {
      "cell_type": "code",
      "execution_count": null,
      "metadata": {
        "colab": {
          "base_uri": "https://localhost:8080/"
        },
        "id": "MS4NcL8EcwXS",
        "outputId": "e52c712a-3832-433c-e109-9ebb3f87cfb4"
      },
      "outputs": [
        {
          "output_type": "execute_result",
          "data": {
            "text/plain": [
              "dict_keys(['global', 'introduction', 'system', 'controller', 'gui', 'alarm'])"
            ]
          },
          "metadata": {},
          "execution_count": 47
        }
      ],
      "source": [
        "################################## for Completeness\n",
        "completeness_prompts = {}\n",
        "for section in sections:\n",
        "  var_name = 'comp_' + section + '_prompt'\n",
        "  combined_prompt = globals()[var_name] + '\\n\\n' + '```\\n' + file_section[section] + '```\\n'\n",
        "  completeness_prompts[section] = combined_prompt\n",
        "completeness_prompts.keys()"
      ]
    },
    {
      "cell_type": "code",
      "execution_count": null,
      "metadata": {
        "id": "GN7_4AHmtlpN"
      },
      "outputs": [],
      "source": [
        "# for GPT 4 Turbo\n",
        "\n",
        "results_path = os.path.join('/content/drive/MyDrive/Lung Ventilator LLM/LUNG LLM/', fnumber, 'With Image Description/Results - GPT4 with Images')\n",
        "os.makedirs(results_path, exist_ok = True)\n",
        "os.makedirs(os.path.join(results_path, 'Completeness'), exist_ok = True)\n",
        "\n",
        "keys = list(completeness_prompts.keys())\n",
        "\n",
        "for key in keys:\n",
        "  g = open(os.path.join(results_path, 'Completeness','') + key + '.txt', 'w+')\n",
        "\n",
        "  updated_messages = template_str(completeness_prompts[key])\n",
        "\n",
        "  answers = openai.ChatCompletion.create(\n",
        "    model='gpt-4-turbo-preview',\n",
        "    temperature=0,\n",
        "    messages=[updated_messages]\n",
        "  )\n",
        "  res = answers['choices'][0]['message']['content']\n",
        "  g.write(res)\n",
        "  g.write('\\n')\n",
        "  g.close()"
      ]
    },
    {
      "cell_type": "code",
      "execution_count": null,
      "metadata": {
        "id": "dDnU3brP-rKW"
      },
      "outputs": [],
      "source": [
        "# for GPT 3.5\n",
        "\n",
        "results_path = os.path.join('/content/drive/MyDrive/Lung Ventilator LLM/LUNG LLM/', fnumber, 'With Image Description/Results - GPT3.5 with Images')\n",
        "os.makedirs(results_path, exist_ok = True)\n",
        "os.makedirs(os.path.join(results_path, 'Completeness'), exist_ok = True)\n",
        "\n",
        "keys = list(completeness_prompts.keys())\n",
        "\n",
        "for key in keys[1:]:\n",
        "  g = open(os.path.join(results_path, 'Completeness','') + key + '.txt', 'w+')\n",
        "\n",
        "  updated_messages = template_str(completeness_prompts[key])\n",
        "\n",
        "  answers = openai.ChatCompletion.create(\n",
        "    model='gpt-3.5-turbo',\n",
        "    temperature=0,\n",
        "    messages=[updated_messages]\n",
        "  )\n",
        "  res = answers['choices'][0]['message']['content']\n",
        "  g.write(res)\n",
        "  g.write('\\n')\n",
        "  g.close()"
      ]
    },
    {
      "cell_type": "code",
      "execution_count": null,
      "metadata": {
        "colab": {
          "base_uri": "https://localhost:8080/"
        },
        "id": "x-sLW7SsWKOT",
        "outputId": "22d1b01d-b4c3-4a9c-cff0-2160016ec2bb"
      },
      "outputs": [
        {
          "output_type": "execute_result",
          "data": {
            "text/plain": [
              "dict_keys(['global', 'introduction', 'system', 'controller', 'gui', 'alarm'])"
            ]
          },
          "metadata": {},
          "execution_count": 50
        }
      ],
      "source": [
        "################################## for Inconsistencies / Contradictions\n",
        "contradictions_prompts = {}\n",
        "for section in sections:\n",
        "  var_name = 'cont_' + section + '_prompt'\n",
        "  combined_prompt = globals()[var_name] + '\\n\\n' + '```\\n' + file_section[section] + '```\\n'\n",
        "  contradictions_prompts[section] = combined_prompt\n",
        "contradictions_prompts.keys()"
      ]
    },
    {
      "cell_type": "code",
      "execution_count": null,
      "metadata": {
        "id": "ItEpKO4QWOYW"
      },
      "outputs": [],
      "source": [
        "results_path = os.path.join('/content/drive/MyDrive/Lung Ventilator LLM/LUNG LLM/', fnumber, 'With Image Description/Results - GPT4 with Images')\n",
        "os.makedirs(results_path, exist_ok = True)\n",
        "os.makedirs(os.path.join(results_path, 'Inconsistencies'), exist_ok = True)\n",
        "\n",
        "keys = list(contradictions_prompts.keys())\n",
        "\n",
        "for key in keys:\n",
        "  g = open(os.path.join(results_path, 'Inconsistencies','') + key + '.txt', 'w+')\n",
        "\n",
        "  updated_messages = template_str(contradictions_prompts[key])\n",
        "\n",
        "  answers = openai.ChatCompletion.create(\n",
        "    model='gpt-4-turbo-preview',\n",
        "    temperature=0,\n",
        "    messages=[updated_messages]\n",
        "  )\n",
        "  res = answers['choices'][0]['message']['content']\n",
        "  g.write(res)\n",
        "  g.write('\\n')\n",
        "  g.close()"
      ]
    },
    {
      "cell_type": "code",
      "execution_count": null,
      "metadata": {
        "id": "xQcQjKyD_GZz"
      },
      "outputs": [],
      "source": [
        "results_path = os.path.join('/content/drive/MyDrive/Lung Ventilator LLM/LUNG LLM/', fnumber, 'With Image Description/Results - GPT3.5 with Images')\n",
        "os.makedirs(results_path, exist_ok = True)\n",
        "os.makedirs(os.path.join(results_path, 'Inconsistencies'), exist_ok = True)\n",
        "\n",
        "keys = list(contradictions_prompts.keys())\n",
        "\n",
        "for key in keys[1:]:\n",
        "  g = open(os.path.join(results_path, 'Inconsistencies','') + key + '.txt', 'w+')\n",
        "\n",
        "  updated_messages = template_str(contradictions_prompts[key])\n",
        "\n",
        "  answers = openai.ChatCompletion.create(\n",
        "    model='gpt-3.5-turbo',\n",
        "    temperature=0,\n",
        "    messages=[updated_messages]\n",
        "  )\n",
        "  res = answers['choices'][0]['message']['content']\n",
        "  g.write(res)\n",
        "  g.write('\\n')\n",
        "  g.close()"
      ]
    },
    {
      "cell_type": "code",
      "execution_count": null,
      "metadata": {
        "colab": {
          "base_uri": "https://localhost:8080/"
        },
        "id": "FKZmlluTWKru",
        "outputId": "66a65560-fe97-4441-bde4-f99cc7bb9926"
      },
      "outputs": [
        {
          "output_type": "execute_result",
          "data": {
            "text/plain": [
              "dict_keys(['global', 'introduction', 'system', 'controller', 'gui', 'alarm'])"
            ]
          },
          "metadata": {},
          "execution_count": 53
        }
      ],
      "source": [
        "################################## for Ambiguities\n",
        "ambiguities_prompts = {}\n",
        "for section in sections:\n",
        "  var_name = 'ambi_' + section + '_prompt'\n",
        "  combined_prompt = globals()[var_name] + '\\n\\n' + '```\\n' + file_section[section] + '```\\n'\n",
        "  ambiguities_prompts[section] = combined_prompt\n",
        "ambiguities_prompts.keys()"
      ]
    },
    {
      "cell_type": "code",
      "execution_count": null,
      "metadata": {
        "id": "WoNfGiL2WPWT"
      },
      "outputs": [],
      "source": [
        "results_path = os.path.join('/content/drive/MyDrive/Lung Ventilator LLM/LUNG LLM/', fnumber, 'With Image Description/Results - GPT4 with Images')\n",
        "os.makedirs(results_path, exist_ok = True)\n",
        "os.makedirs(os.path.join(results_path, 'Ambiguities'), exist_ok = True)\n",
        "\n",
        "keys = list(ambiguities_prompts.keys())\n",
        "\n",
        "for key in keys:\n",
        "  g = open(os.path.join(results_path, 'Ambiguities','') + key + '.txt', 'w+')\n",
        "\n",
        "  updated_messages = template_str(ambiguities_prompts[key])\n",
        "\n",
        "  answers = openai.ChatCompletion.create(\n",
        "    model='gpt-4-turbo-preview',\n",
        "    temperature=0,\n",
        "    messages=[updated_messages]\n",
        "  )\n",
        "  res = answers['choices'][0]['message']['content']\n",
        "  g.write(res)\n",
        "  g.write('\\n')\n",
        "  g.close()"
      ]
    },
    {
      "cell_type": "code",
      "execution_count": null,
      "metadata": {
        "id": "Pc6FahKo_PIQ"
      },
      "outputs": [],
      "source": [
        "results_path = os.path.join('/content/drive/MyDrive/Lung Ventilator LLM/LUNG LLM/', fnumber, 'With Image Description/Results - GPT3.5 with Images')\n",
        "os.makedirs(results_path, exist_ok = True)\n",
        "os.makedirs(os.path.join(results_path, 'Ambiguities'), exist_ok = True)\n",
        "\n",
        "keys = list(ambiguities_prompts.keys())\n",
        "\n",
        "for key in keys[1:]:\n",
        "  g = open(os.path.join(results_path, 'Ambiguities','') + key + '.txt', 'w+')\n",
        "\n",
        "  updated_messages = template_str(ambiguities_prompts[key])\n",
        "\n",
        "  answers = openai.ChatCompletion.create(\n",
        "    model='gpt-3.5-turbo',\n",
        "    temperature=0,\n",
        "    messages=[updated_messages]\n",
        "  )\n",
        "  res = answers['choices'][0]['message']['content']\n",
        "  g.write(res)\n",
        "  g.write('\\n')\n",
        "  g.close()"
      ]
    },
    {
      "cell_type": "markdown",
      "source": [
        "# Local with Global Context Running"
      ],
      "metadata": {
        "id": "CbeoC-jPW95u"
      }
    },
    {
      "cell_type": "code",
      "source": [
        "def checker(astr):\n",
        "  name = astr.split()[0].lower()\n",
        "  return name if (name in sections) else 'global'"
      ],
      "metadata": {
        "id": "FUzpc_cTyc92"
      },
      "execution_count": null,
      "outputs": []
    },
    {
      "cell_type": "code",
      "source": [
        "for i in range(3,5):\n",
        "  fnumber = str(i)\n",
        "\n",
        "  file_section = {}\n",
        "\n",
        "  fpath = os.path.join('/content/drive/MyDrive/Lung Ventilator LLM/LUNG LLM/', fnumber, 'With Image Description/All Cleaned Data with Images')\n",
        "  dirs = os.listdir(fpath)\n",
        "  for d in dirs:\n",
        "    with open(os.path.join(fpath, d), \"r\") as f:\n",
        "      content = f.read()\n",
        "    file_section[checker(d.replace('.txt', ''))] = content\n",
        "\n",
        "  sections = ['introduction', 'system', 'controller', 'gui', 'alarm']\n",
        "  requirements = ['comp', 'cont', 'ambi']\n",
        "\n",
        "  ################################## for Completeness\n",
        "  completeness_ctx_prompts = {}\n",
        "\n",
        "  for section in sections:\n",
        "    var_name = 'comp_' + section + '_ctx_prompt'\n",
        "    combined_prompt = globals()[var_name] + '\\n\\n' + '\\n' + file_section['global'] + '\\n'\n",
        "    completeness_ctx_prompts[section] = combined_prompt\n",
        "  completeness_ctx_prompts.keys()\n",
        "\n",
        "  # for GPT 4 Turbo\n",
        "\n",
        "  results_path = os.path.join('/content/drive/MyDrive/Lung Ventilator LLM/LUNG LLM/', fnumber, 'With Image Description/Results - GPT4 with Images/Local with Global Context')\n",
        "  os.makedirs(results_path, exist_ok = True)\n",
        "  os.makedirs(os.path.join(results_path, 'Completeness'), exist_ok = True)\n",
        "\n",
        "  keys = list(completeness_ctx_prompts.keys())\n",
        "\n",
        "  for key in keys:\n",
        "    g = open(os.path.join(results_path, 'Completeness','') + key + '.txt', 'w+')\n",
        "\n",
        "    updated_messages = template_str(completeness_prompts[key])\n",
        "\n",
        "    answers = openai.ChatCompletion.create(\n",
        "      model='gpt-4-turbo-preview',\n",
        "      temperature=0,\n",
        "      messages=[updated_messages]\n",
        "    )\n",
        "    res = answers['choices'][0]['message']['content']\n",
        "    g.write(res)\n",
        "    g.write('\\n')\n",
        "    g.close()\n",
        "\n",
        "  # for GPT 3.5\n",
        "\n",
        "  results_path = os.path.join('/content/drive/MyDrive/Lung Ventilator LLM/LUNG LLM/', fnumber, 'With Image Description/Results - GPT3.5 with Images/Local with Global Context')\n",
        "  os.makedirs(results_path, exist_ok = True)\n",
        "  os.makedirs(os.path.join(results_path, 'Completeness'), exist_ok = True)\n",
        "\n",
        "  keys = list(completeness_ctx_prompts.keys())\n",
        "\n",
        "  for key in keys[1:]:\n",
        "    g = open(os.path.join(results_path, 'Completeness','') + key + '.txt', 'w+')\n",
        "\n",
        "    updated_messages = template_str(completeness_prompts[key])\n",
        "\n",
        "    answers = openai.ChatCompletion.create(\n",
        "      model='gpt-3.5-turbo',\n",
        "      temperature=0,\n",
        "      messages=[updated_messages]\n",
        "    )\n",
        "    res = answers['choices'][0]['message']['content']\n",
        "    g.write(res)\n",
        "    g.write('\\n')\n",
        "    g.close()\n",
        "\n",
        "  ################################## for Contradictions\n",
        "  contradictions_ctx_prompts = {}\n",
        "\n",
        "  for section in sections:\n",
        "    var_name = 'comp_' + section + '_ctx_prompt'\n",
        "    combined_prompt = globals()[var_name] + '\\n\\n' + '\\n' + file_section['global'] + '\\n'\n",
        "    contradictions_ctx_prompts[section] = combined_prompt\n",
        "  contradictions_ctx_prompts.keys()\n",
        "\n",
        "  # for GPT 4 Turbo\n",
        "\n",
        "  results_path = os.path.join('/content/drive/MyDrive/Lung Ventilator LLM/LUNG LLM/', fnumber, 'With Image Description/Results - GPT4 with Images/Local with Global Context')\n",
        "  os.makedirs(results_path, exist_ok = True)\n",
        "  os.makedirs(os.path.join(results_path, 'Inconsistencies'), exist_ok = True)\n",
        "\n",
        "  keys = list(contradictions_ctx_prompts.keys())\n",
        "\n",
        "  for key in keys:\n",
        "    g = open(os.path.join(results_path, 'Inconsistencies','') + key + '.txt', 'w+')\n",
        "\n",
        "    updated_messages = template_str(contradictions_prompts[key])\n",
        "\n",
        "    answers = openai.ChatCompletion.create(\n",
        "      model='gpt-4-turbo-preview',\n",
        "      temperature=0,\n",
        "      messages=[updated_messages]\n",
        "    )\n",
        "    res = answers['choices'][0]['message']['content']\n",
        "    g.write(res)\n",
        "    g.write('\\n')\n",
        "    g.close()\n",
        "\n",
        "  # for GPT 3.5\n",
        "\n",
        "  results_path = os.path.join('/content/drive/MyDrive/Lung Ventilator LLM/LUNG LLM/', fnumber, 'With Image Description/Results - GPT3.5 with Images/Local with Global Context')\n",
        "  os.makedirs(results_path, exist_ok = True)\n",
        "  os.makedirs(os.path.join(results_path, 'Inconsistencies'), exist_ok = True)\n",
        "\n",
        "  keys = list(contradictions_ctx_prompts.keys())\n",
        "\n",
        "  for key in keys[1:]:\n",
        "    g = open(os.path.join(results_path, 'Inconsistencies','') + key + '.txt', 'w+')\n",
        "\n",
        "    updated_messages = template_str(contradictions_prompts[key])\n",
        "\n",
        "    answers = openai.ChatCompletion.create(\n",
        "      model='gpt-3.5-turbo',\n",
        "      temperature=0,\n",
        "      messages=[updated_messages]\n",
        "    )\n",
        "    res = answers['choices'][0]['message']['content']\n",
        "    g.write(res)\n",
        "    g.write('\\n')\n",
        "    g.close()\n",
        "\n",
        "  ################################## for Ambiguities\n",
        "  ambiguities_ctx_prompts = {}\n",
        "\n",
        "  for section in sections:\n",
        "    var_name = 'comp_' + section + '_ctx_prompt'\n",
        "    combined_prompt = globals()[var_name] + '\\n\\n' + '\\n' + file_section['global'] + '\\n'\n",
        "    ambiguities_ctx_prompts[section] = combined_prompt\n",
        "  ambiguities_ctx_prompts.keys()\n",
        "\n",
        "  # for GPT 4 Turbo\n",
        "\n",
        "  results_path = os.path.join('/content/drive/MyDrive/Lung Ventilator LLM/LUNG LLM/', fnumber, 'With Image Description/Results - GPT4 with Images/Local with Global Context')\n",
        "  os.makedirs(results_path, exist_ok = True)\n",
        "  os.makedirs(os.path.join(results_path, 'Ambiguities'), exist_ok = True)\n",
        "\n",
        "  keys = list(ambiguities_ctx_prompts.keys())\n",
        "\n",
        "  for key in keys:\n",
        "    g = open(os.path.join(results_path, 'Ambiguities','') + key + '.txt', 'w+')\n",
        "\n",
        "    updated_messages = template_str(ambiguities_prompts[key])\n",
        "\n",
        "    answers = openai.ChatCompletion.create(\n",
        "      model='gpt-4-turbo-preview',\n",
        "      temperature=0,\n",
        "      messages=[updated_messages]\n",
        "    )\n",
        "    res = answers['choices'][0]['message']['content']\n",
        "    g.write(res)\n",
        "    g.write('\\n')\n",
        "    g.close()\n",
        "\n",
        "  # for GPT 3.5\n",
        "\n",
        "  results_path = os.path.join('/content/drive/MyDrive/Lung Ventilator LLM/LUNG LLM/', fnumber, 'With Image Description/Results - GPT3.5 with Images/Local with Global Context')\n",
        "  os.makedirs(results_path, exist_ok = True)\n",
        "  os.makedirs(os.path.join(results_path, 'Ambiguities'), exist_ok = True)\n",
        "\n",
        "  keys = list(ambiguities_ctx_prompts.keys())\n",
        "\n",
        "  for key in keys[1:]:\n",
        "    g = open(os.path.join(results_path, 'Ambiguities','') + key + '.txt', 'w+')\n",
        "\n",
        "    updated_messages = template_str(ambiguities_prompts[key])\n",
        "\n",
        "    answers = openai.ChatCompletion.create(\n",
        "      model='gpt-3.5-turbo',\n",
        "      temperature=0,\n",
        "      messages=[updated_messages]\n",
        "    )\n",
        "    res = answers['choices'][0]['message']['content']\n",
        "    g.write(res)\n",
        "    g.write('\\n')\n",
        "    g.close()"
      ],
      "metadata": {
        "id": "vGMeFeeJygbt"
      },
      "execution_count": null,
      "outputs": []
    },
    {
      "cell_type": "code",
      "source": [
        "for i in range(6):\n",
        "  fnumber = str(i)\n",
        "\n",
        "  file_section = {}\n",
        "\n",
        "  fpath = os.path.join('/content/drive/MyDrive/Lung Ventilator LLM/LUNG LLM/', fnumber, 'With Image Description/All Cleaned Data with Images')\n",
        "  dirs = os.listdir(fpath)\n",
        "  for d in dirs:\n",
        "    with open(os.path.join(fpath, d), \"r\") as f:\n",
        "      content = f.read()\n",
        "    file_section[checker(d.replace('.txt', ''))] = content\n",
        "\n",
        "  sections = ['introduction', 'system', 'controller', 'gui', 'alarm']\n",
        "  requirements = ['comp', 'cont', 'ambi']\n",
        "\n",
        "  ################################## for Completeness\n",
        "  completeness_ctx_prompts = {}\n",
        "\n",
        "  for section in sections:\n",
        "    var_name = 'comp_' + section + '_ctx_prompt'\n",
        "    combined_prompt = globals()[var_name] + '\\n\\n' + '\\n' + file_section['global'] + '\\n'\n",
        "    completeness_ctx_prompts[section] = combined_prompt\n",
        "  completeness_ctx_prompts.keys()\n",
        "\n",
        "  # for GPT 3.5\n",
        "\n",
        "  results_path = os.path.join('/content/drive/MyDrive/Lung Ventilator LLM/LUNG LLM/', fnumber, 'With Image Description/Results - GPT3.5 with Images/Local with Global Context')\n",
        "  os.makedirs(results_path, exist_ok = True)\n",
        "  os.makedirs(os.path.join(results_path, 'Completeness'), exist_ok = True)\n",
        "\n",
        "  keys = list(completeness_ctx_prompts.keys())\n",
        "\n",
        "  for key in keys[:1]:\n",
        "    g = open(os.path.join(results_path, 'Completeness','') + key + '.txt', 'w+')\n",
        "\n",
        "    updated_messages = template_str(completeness_prompts[key])\n",
        "\n",
        "    answers = openai.ChatCompletion.create(\n",
        "      model='gpt-3.5-turbo',\n",
        "      temperature=0,\n",
        "      messages=[updated_messages]\n",
        "    )\n",
        "    res = answers['choices'][0]['message']['content']\n",
        "    g.write(res)\n",
        "    g.write('\\n')\n",
        "    g.close()\n",
        "\n",
        "  ################################## for Contradictions\n",
        "  contradictions_ctx_prompts = {}\n",
        "\n",
        "  for section in sections:\n",
        "    var_name = 'comp_' + section + '_ctx_prompt'\n",
        "    combined_prompt = globals()[var_name] + '\\n\\n' + '\\n' + file_section['global'] + '\\n'\n",
        "    contradictions_ctx_prompts[section] = combined_prompt\n",
        "  contradictions_ctx_prompts.keys()\n",
        "\n",
        "  # for GPT 3.5\n",
        "\n",
        "  results_path = os.path.join('/content/drive/MyDrive/Lung Ventilator LLM/LUNG LLM/', fnumber, 'With Image Description/Results - GPT3.5 with Images/Local with Global Context')\n",
        "  os.makedirs(results_path, exist_ok = True)\n",
        "  os.makedirs(os.path.join(results_path, 'Inconsistencies'), exist_ok = True)\n",
        "\n",
        "  keys = list(contradictions_ctx_prompts.keys())\n",
        "\n",
        "  for key in keys[:1]:\n",
        "    g = open(os.path.join(results_path, 'Inconsistencies','') + key + '.txt', 'w+')\n",
        "\n",
        "    updated_messages = template_str(contradictions_prompts[key])\n",
        "\n",
        "    answers = openai.ChatCompletion.create(\n",
        "      model='gpt-3.5-turbo',\n",
        "      temperature=0,\n",
        "      messages=[updated_messages]\n",
        "    )\n",
        "    res = answers['choices'][0]['message']['content']\n",
        "    g.write(res)\n",
        "    g.write('\\n')\n",
        "    g.close()\n",
        "\n",
        "  ################################## for Ambiguities\n",
        "  ambiguities_ctx_prompts = {}\n",
        "\n",
        "  for section in sections:\n",
        "    var_name = 'comp_' + section + '_ctx_prompt'\n",
        "    combined_prompt = globals()[var_name] + '\\n\\n' + '\\n' + file_section['global'] + '\\n'\n",
        "    ambiguities_ctx_prompts[section] = combined_prompt\n",
        "  ambiguities_ctx_prompts.keys()\n",
        "\n",
        "  # for GPT 3.5\n",
        "\n",
        "  results_path = os.path.join('/content/drive/MyDrive/Lung Ventilator LLM/LUNG LLM/', fnumber, 'With Image Description/Results - GPT3.5 with Images/Local with Global Context')\n",
        "  os.makedirs(results_path, exist_ok = True)\n",
        "  os.makedirs(os.path.join(results_path, 'Ambiguities'), exist_ok = True)\n",
        "\n",
        "  keys = list(ambiguities_ctx_prompts.keys())\n",
        "\n",
        "  for key in keys[:1]:\n",
        "    g = open(os.path.join(results_path, 'Ambiguities','') + key + '.txt', 'w+')\n",
        "\n",
        "    updated_messages = template_str(ambiguities_prompts[key])\n",
        "\n",
        "    answers = openai.ChatCompletion.create(\n",
        "      model='gpt-3.5-turbo',\n",
        "      temperature=0,\n",
        "      messages=[updated_messages]\n",
        "    )\n",
        "    res = answers['choices'][0]['message']['content']\n",
        "    g.write(res)\n",
        "    g.write('\\n')\n",
        "    g.close()"
      ],
      "metadata": {
        "id": "Le1RYVbY3uT8"
      },
      "execution_count": null,
      "outputs": []
    },
    {
      "cell_type": "code",
      "source": [
        "#################### DEFINE WHICH FOLDER TO USE\n",
        "\n",
        "fnumber = str(5)  # for paper 5\n",
        "\n",
        "file_section = {}\n",
        "\n",
        "fpath = os.path.join('/content/drive/MyDrive/Lung Ventilator LLM/LUNG LLM/', fnumber, 'With Image Description/All Cleaned Data with Images')\n",
        "dirs = os.listdir(fpath)\n",
        "for d in dirs:\n",
        "  with open(os.path.join(fpath, d), \"r\") as f:\n",
        "    content = f.read()\n",
        "  file_section[checker(d.replace('.txt', ''))] = content\n",
        "\n",
        "sections = ['introduction', 'system', 'controller', 'gui', 'alarm']\n",
        "requirements = ['comp', 'cont', 'ambi']\n",
        "\n",
        "file_section.keys()"
      ],
      "metadata": {
        "colab": {
          "base_uri": "https://localhost:8080/"
        },
        "id": "_cFcxwRrcxEh",
        "outputId": "ccb536aa-2f83-4fcf-f5e6-ec6808480452"
      },
      "execution_count": null,
      "outputs": [
        {
          "output_type": "execute_result",
          "data": {
            "text/plain": [
              "dict_keys(['global', 'gui', 'system', 'introduction', 'alarm', 'controller'])"
            ]
          },
          "metadata": {},
          "execution_count": 112
        }
      ]
    },
    {
      "cell_type": "code",
      "source": [
        "################################## for Completeness\n",
        "completeness_ctx_prompts = {}\n",
        "\n",
        "for section in sections:\n",
        "  var_name = 'comp_' + section + '_ctx_prompt'\n",
        "  combined_prompt = globals()[var_name] + '\\n\\n' + '\\n' + file_section['global'] + '\\n'\n",
        "  completeness_ctx_prompts[section] = combined_prompt\n",
        "completeness_ctx_prompts.keys()"
      ],
      "metadata": {
        "colab": {
          "base_uri": "https://localhost:8080/"
        },
        "id": "-3pedT8JcLUC",
        "outputId": "6133bcfd-4def-457f-b7cb-108e8022c396"
      },
      "execution_count": null,
      "outputs": [
        {
          "output_type": "execute_result",
          "data": {
            "text/plain": [
              "dict_keys(['introduction', 'system', 'controller', 'gui', 'alarm'])"
            ]
          },
          "metadata": {},
          "execution_count": 113
        }
      ]
    },
    {
      "cell_type": "code",
      "source": [
        "# for GPT 4 Turbo\n",
        "\n",
        "results_path = os.path.join('/content/drive/MyDrive/Lung Ventilator LLM/LUNG LLM/', fnumber, 'With Image Description/Results - GPT4 with Images/Local with Global Context')\n",
        "os.makedirs(results_path, exist_ok = True)\n",
        "os.makedirs(os.path.join(results_path, 'Completeness'), exist_ok = True)\n",
        "\n",
        "keys = list(completeness_ctx_prompts.keys())\n",
        "\n",
        "for key in keys:\n",
        "  g = open(os.path.join(results_path, 'Completeness','') + key + '.txt', 'w+')\n",
        "\n",
        "  updated_messages = template_str(completeness_prompts[key])\n",
        "\n",
        "  answers = openai.ChatCompletion.create(\n",
        "    model='gpt-4-turbo-preview',\n",
        "    temperature=0,\n",
        "    messages=[updated_messages]\n",
        "  )\n",
        "  res = answers['choices'][0]['message']['content']\n",
        "  g.write(res)\n",
        "  g.write('\\n')\n",
        "  g.close()"
      ],
      "metadata": {
        "id": "USa7qqWBcYJ8"
      },
      "execution_count": null,
      "outputs": []
    },
    {
      "cell_type": "code",
      "source": [
        "# for GPT 3.5\n",
        "\n",
        "results_path = os.path.join('/content/drive/MyDrive/Lung Ventilator LLM/LUNG LLM/', fnumber, 'With Image Description/Results - GPT3.5 with Images/Local with Global Context')\n",
        "os.makedirs(results_path, exist_ok = True)\n",
        "os.makedirs(os.path.join(results_path, 'Completeness'), exist_ok = True)\n",
        "\n",
        "keys = list(completeness_ctx_prompts.keys())\n",
        "\n",
        "for key in keys[1:]:\n",
        "  g = open(os.path.join(results_path, 'Completeness','') + key + '.txt', 'w+')\n",
        "\n",
        "  updated_messages = template_str(completeness_prompts[key])\n",
        "\n",
        "  answers = openai.ChatCompletion.create(\n",
        "    model='gpt-3.5-turbo',\n",
        "    temperature=0,\n",
        "    messages=[updated_messages]\n",
        "  )\n",
        "  res = answers['choices'][0]['message']['content']\n",
        "  g.write(res)\n",
        "  g.write('\\n')\n",
        "  g.close()"
      ],
      "metadata": {
        "id": "RjSd9lpEchTV"
      },
      "execution_count": null,
      "outputs": []
    },
    {
      "cell_type": "code",
      "source": [
        "################################## for Contradictions\n",
        "contradictions_ctx_prompts = {}\n",
        "\n",
        "for section in sections:\n",
        "  var_name = 'comp_' + section + '_ctx_prompt'\n",
        "  combined_prompt = globals()[var_name] + '\\n\\n' + '\\n' + file_section['global'] + '\\n'\n",
        "  contradictions_ctx_prompts[section] = combined_prompt\n",
        "contradictions_ctx_prompts.keys()"
      ],
      "metadata": {
        "colab": {
          "base_uri": "https://localhost:8080/"
        },
        "id": "JXQFRcxYcc6e",
        "outputId": "02a6828c-86ec-440d-ed64-b1ed5f43e156"
      },
      "execution_count": null,
      "outputs": [
        {
          "output_type": "execute_result",
          "data": {
            "text/plain": [
              "dict_keys(['introduction', 'system', 'controller', 'gui', 'alarm'])"
            ]
          },
          "metadata": {},
          "execution_count": 116
        }
      ]
    },
    {
      "cell_type": "code",
      "source": [
        "# for GPT 4 Turbo\n",
        "\n",
        "results_path = os.path.join('/content/drive/MyDrive/Lung Ventilator LLM/LUNG LLM/', fnumber, 'With Image Description/Results - GPT4 with Images/Local with Global Context')\n",
        "os.makedirs(results_path, exist_ok = True)\n",
        "os.makedirs(os.path.join(results_path, 'Inconsistencies'), exist_ok = True)\n",
        "\n",
        "keys = list(contradictions_ctx_prompts.keys())\n",
        "\n",
        "for key in keys:\n",
        "  g = open(os.path.join(results_path, 'Inconsistencies','') + key + '.txt', 'w+')\n",
        "\n",
        "  updated_messages = template_str(contradictions_prompts[key])\n",
        "\n",
        "  answers = openai.ChatCompletion.create(\n",
        "    model='gpt-4-turbo-preview',\n",
        "    temperature=0,\n",
        "    messages=[updated_messages]\n",
        "  )\n",
        "  res = answers['choices'][0]['message']['content']\n",
        "  g.write(res)\n",
        "  g.write('\\n')\n",
        "  g.close()"
      ],
      "metadata": {
        "id": "F6AWK5hpcktl"
      },
      "execution_count": null,
      "outputs": []
    },
    {
      "cell_type": "code",
      "source": [
        "# for GPT 3.5\n",
        "\n",
        "results_path = os.path.join('/content/drive/MyDrive/Lung Ventilator LLM/LUNG LLM/', fnumber, 'With Image Description/Results - GPT3.5 with Images/Local with Global Context')\n",
        "os.makedirs(results_path, exist_ok = True)\n",
        "os.makedirs(os.path.join(results_path, 'Inconsistencies'), exist_ok = True)\n",
        "\n",
        "keys = list(contradictions_ctx_prompts.keys())\n",
        "\n",
        "for key in keys[1:]:\n",
        "  g = open(os.path.join(results_path, 'Inconsistencies','') + key + '.txt', 'w+')\n",
        "\n",
        "  updated_messages = template_str(contradictions_prompts[key])\n",
        "\n",
        "  answers = openai.ChatCompletion.create(\n",
        "    model='gpt-3.5-turbo',\n",
        "    temperature=0,\n",
        "    messages=[updated_messages]\n",
        "  )\n",
        "  res = answers['choices'][0]['message']['content']\n",
        "  g.write(res)\n",
        "  g.write('\\n')\n",
        "  g.close()"
      ],
      "metadata": {
        "id": "bSJ9bUdWcpil"
      },
      "execution_count": null,
      "outputs": []
    },
    {
      "cell_type": "code",
      "source": [
        "################################## for Ambiguities\n",
        "ambiguities_ctx_prompts = {}\n",
        "\n",
        "for section in sections:\n",
        "  var_name = 'comp_' + section + '_ctx_prompt'\n",
        "  combined_prompt = globals()[var_name] + '\\n\\n' + '\\n' + file_section['global'] + '\\n'\n",
        "  ambiguities_ctx_prompts[section] = combined_prompt\n",
        "ambiguities_ctx_prompts.keys()"
      ],
      "metadata": {
        "colab": {
          "base_uri": "https://localhost:8080/"
        },
        "id": "8YIeLpaaclA6",
        "outputId": "0790048a-1e64-4b51-f2c1-66ffa96f13af"
      },
      "execution_count": null,
      "outputs": [
        {
          "output_type": "execute_result",
          "data": {
            "text/plain": [
              "dict_keys(['introduction', 'system', 'controller', 'gui', 'alarm'])"
            ]
          },
          "metadata": {},
          "execution_count": 119
        }
      ]
    },
    {
      "cell_type": "code",
      "source": [
        "# for GPT 4 Turbo\n",
        "\n",
        "results_path = os.path.join('/content/drive/MyDrive/Lung Ventilator LLM/LUNG LLM/', fnumber, 'With Image Description/Results - GPT4 with Images/Local with Global Context')\n",
        "os.makedirs(results_path, exist_ok = True)\n",
        "os.makedirs(os.path.join(results_path, 'Ambiguities'), exist_ok = True)\n",
        "\n",
        "keys = list(ambiguities_ctx_prompts.keys())\n",
        "\n",
        "for key in keys:\n",
        "  g = open(os.path.join(results_path, 'Ambiguities','') + key + '.txt', 'w+')\n",
        "\n",
        "  updated_messages = template_str(ambiguities_prompts[key])\n",
        "\n",
        "  answers = openai.ChatCompletion.create(\n",
        "    model='gpt-4-turbo-preview',\n",
        "    temperature=0,\n",
        "    messages=[updated_messages]\n",
        "  )\n",
        "  res = answers['choices'][0]['message']['content']\n",
        "  g.write(res)\n",
        "  g.write('\\n')\n",
        "  g.close()"
      ],
      "metadata": {
        "id": "mLN3gKLWcsPE"
      },
      "execution_count": null,
      "outputs": []
    },
    {
      "cell_type": "code",
      "source": [
        "# for GPT 3.5\n",
        "\n",
        "results_path = os.path.join('/content/drive/MyDrive/Lung Ventilator LLM/LUNG LLM/', fnumber, 'With Image Description/Results - GPT3.5 with Images/Local with Global Context')\n",
        "os.makedirs(results_path, exist_ok = True)\n",
        "os.makedirs(os.path.join(results_path, 'Ambiguities'), exist_ok = True)\n",
        "\n",
        "keys = list(ambiguities_ctx_prompts.keys())\n",
        "\n",
        "for key in keys[1:]:\n",
        "  g = open(os.path.join(results_path, 'Ambiguities','') + key + '.txt', 'w+')\n",
        "\n",
        "  updated_messages = template_str(ambiguities_prompts[key])\n",
        "\n",
        "  answers = openai.ChatCompletion.create(\n",
        "    model='gpt-3.5-turbo',\n",
        "    temperature=0,\n",
        "    messages=[updated_messages]\n",
        "  )\n",
        "  res = answers['choices'][0]['message']['content']\n",
        "  g.write(res)\n",
        "  g.write('\\n')\n",
        "  g.close()"
      ],
      "metadata": {
        "id": "gMTZbTebcvYr"
      },
      "execution_count": null,
      "outputs": []
    },
    {
      "cell_type": "markdown",
      "metadata": {
        "id": "rvF7LfsGfJJC"
      },
      "source": [
        "# GPT-Vision for generating Text descriptions"
      ]
    },
    {
      "cell_type": "code",
      "execution_count": null,
      "metadata": {
        "id": "vKVQqIK81L1X"
      },
      "outputs": [],
      "source": [
        "import base64\n",
        "import requests\n",
        "\n",
        "# OpenAI API Key\n",
        "api_key = ''\n",
        "\n",
        "# Function to encode the image\n",
        "def encode_image(image_path):\n",
        "  with open(image_path, \"rb\") as image_file:\n",
        "    return base64.b64encode(image_file.read()).decode('utf-8')"
      ]
    },
    {
      "cell_type": "code",
      "execution_count": null,
      "metadata": {
        "id": "zG6cY-CHiQ_c"
      },
      "outputs": [],
      "source": [
        "figure_prompts = {\n",
        "    '1.1_figure': \"Given the UML diagram of the high level software architecture of a mechanical lung ventilator, provide a descriptive prompt that exactly describes the UML diagram. Make sure to briefly mention the figure label in the beginning. Provide the descriptions in well-defined points.\",\n",
        "    '2.1_figure': \"Given the UML diagram of the high level operation diagram of a mechanical lung ventilator, provide a descriptive prompt that exactly describes the UML diagram. Make sure to briefly mention the figure label in the beginning. Provide the descriptions in well-defined points.\",\n",
        "    '2.2_figure': \"Given the UML diagram of the high level view of ventilator sensors of a mechanical lung ventilator, provide a descriptive prompt that exactly describes the UML diagram. Make sure to briefly mention the figure label in the beginning. Provide the descriptions in well-defined points.\",\n",
        "    '3.1_figure': \"Given the UML diagram of the GUI state machine of a mechanical lung ventilator, provide a descriptive prompt that exactly describes the UML diagram. Make sure to briefly mention the figure label in the beginning. Provide the descriptions in well-defined points.\",\n",
        "    '3.2_figure': \"Given the UML diagram of the draft of GUI of a mechanical lung ventilator, provide a descriptive prompt that exactly describes the UML diagram. Make sure to briefly mention the figure label in the beginning. Provide the descriptions in well-defined points.\",\n",
        "    '4.1_figure': \"Given the UML diagram of the high level software architecture of a mechanical lung ventilator, provide a descriptive prompt that exactly describes the UML diagram. Make sure to briefly mention the figure label in the beginning. Provide the descriptions in well-defined points.\",\n",
        "}"
      ]
    },
    {
      "cell_type": "code",
      "execution_count": null,
      "metadata": {
        "colab": {
          "base_uri": "https://localhost:8080/"
        },
        "id": "LMrrG25Nfh98",
        "outputId": "dcec41d9-edb0-4cc2-bb49-7d44919aa1fc"
      },
      "outputs": [
        {
          "name": "stdout",
          "output_type": "stream",
          "text": [
            "Figure 3.2 depicts a draft of a Graphical User Interface (GUI) for a mechanical lung ventilator. The following points describe the UML diagram of the draft GUI:\n",
            "\n",
            "1. Navigation Bar:\n",
            "   - The top section contains five action buttons: \"Back,\" \"Settings,\" \"Special Actions,\" \"Start PSV,\" and \"Stop PCV,\" each button styled distinctly to indicate interactive elements.\n",
            "\n",
            "2. Graphical Display Area:\n",
            "   - Below the navigation bar, there are three graphs displayed in a vertical arrangement.\n",
            "   - The first graph is labeled \"PAW (cmH2O)\" and shows a square wave pattern representing airway pressure measurements.\n",
            "   - The second graph is labeled \"Vtidal (ml)\" and illustrates a waveform pattern that could signify tidal volume changes.\n",
            "   - The third graph is labeled \"Flow (lpm)\" and depicts a fluctuating line that appears to reflect airflow measurements.\n",
            "\n",
            "3. Monitoring Information:\n",
            "   - To the right of the graphs, there is a box containing real-time monitoring data such as \"Battery [%],\" \"Power Source,\" \"Measured RR [bpm]\" for respiratory rate, \"Max P insp [cmH2O]\" for inspiratory pressure, \"PEEP [cmH2O]\" for positive end-expiratory pressure, \"Vt insp [ml]\" for inspiratory tidal volume, \"Vt exp [ml]\" for expiratory tidal volume, \"MV [lpm]\" for minute ventilation, and \"FiO2 [%]\" for fraction of inspired oxygen concentration.\n",
            "\n",
            "4. Alarm Interface:\n",
            "   - At the bottom, there is an \"Silence alarm\" button on the left, with a highlighted and textured appearance indicative of actionable control.\n",
            "   - Adjacent to the silence button, there is a banner labeled \"Alarm messages\" which likely serves as a notification area regarding the status or alerts pertaining to the ventilator system.\n",
            "\n",
            "Overall, the diagram of the GUI is cleanly laid out with a focus on displaying critical ventilation parameters and providing quick access to important functionalities with clear visual cues for navigation and alarm management in the clinical setting.\n"
          ]
        }
      ],
      "source": [
        "# Path to your image\n",
        "image_base = '/content/drive/MyDrive/Lung Ventilator LLM/LUNG LLM/Figures/Figure Images/'\n",
        "image_text_base = '/content/drive/MyDrive/Lung Ventilator LLM/LUNG LLM/Figure_texts/'\n",
        "# image_path = '/content/drive/MyDrive/Lung Ventilator LLM/LUNG LLM/Figures/controller_state_machine.jpeg'\n",
        "\n",
        "fnumber = str(5)\n",
        "\n",
        "figure_file_names = [\n",
        "    '1.1_figure',\n",
        "    '2.1_figure',\n",
        "    '2.2_figure',\n",
        "    '3.1_figure',\n",
        "    '3.2_figure',\n",
        "    '4.1_figure',\n",
        "]\n",
        "\n",
        "for i, file_name in enumerate(figure_file_names):\n",
        "  if i == 0: continue\n",
        "  image_input_path = os.path.join(image_base, fnumber, file_name + '.png')\n",
        "  image_text_path = os.path.join(image_text_base, fnumber, file_name + '.txt')\n",
        "\n",
        "  # Getting the base64 string\n",
        "  base64_image = encode_image(image_input_path)\n",
        "\n",
        "  headers = {\n",
        "    \"Content-Type\": \"application/json\",\n",
        "    \"Authorization\": f\"Bearer {api_key}\"\n",
        "  }\n",
        "\n",
        "  prompt_text = figure_prompts[file_name]\n",
        "  payload = {\n",
        "    \"model\": \"gpt-4-vision-preview\",\n",
        "    \"messages\": [\n",
        "      {\n",
        "        \"role\": \"user\",\n",
        "        \"content\": [\n",
        "          {\n",
        "            \"type\": \"text\",\n",
        "            \"text\": prompt_text\n",
        "          },\n",
        "          {\n",
        "            \"type\": \"image_url\",\n",
        "            \"image_url\": {\n",
        "              \"url\": f\"data:image/jpeg;base64,{base64_image}\"\n",
        "            }\n",
        "          }\n",
        "        ]\n",
        "      }\n",
        "    ],\n",
        "    \"max_tokens\": 1500\n",
        "  }\n",
        "\n",
        "  response = requests.post(\"https://api.openai.com/v1/chat/completions\", headers=headers, json=payload)\n",
        "\n",
        "  # with open('/content/drive/MyDrive/Lung Ventilator LLM/LUNG LLM/Figure_texts/controller_state_machine.txt', 'w+') as f:\n",
        "  with open(image_text_path, 'w+') as f:\n",
        "    f.write(response.json()['choices'][0]['message']['content'])\n",
        "    print(response.json()['choices'][0]['message']['content'])\n",
        "\n",
        "\n"
      ]
    },
    {
      "cell_type": "markdown",
      "source": [
        "# Figure Ambiguities"
      ],
      "metadata": {
        "id": "9uq656qWYVZo"
      }
    },
    {
      "cell_type": "code",
      "source": [
        "# # image_input_path = os.path.join(image_base, fnumber, file_name + '.png')\n",
        "# image_input_path = '/content/drive/MyDrive/Lung Ventilator LLM/LUNG LLM/5/With Image Description/5 - Figure_images/4.1_figure.png'\n",
        "\n",
        "# # Getting the base64 string\n",
        "# base64_image = encode_image(image_input_path)\n",
        "\n",
        "# headers = {\n",
        "#   \"Content-Type\": \"application/json\",\n",
        "#   \"Authorization\": f\"Bearer {api_key}\"\n",
        "# }\n",
        "\n",
        "# payload = {\n",
        "#   \"model\": \"gpt-4-vision-preview\",\n",
        "#   \"messages\": [\n",
        "#     {\n",
        "#       \"role\": \"user\",\n",
        "#       \"content\": [\n",
        "#         {\n",
        "#           \"type\": \"text\",\n",
        "#           \"text\": \"Based on the diagram of the Controller state machine provided, detect any ambiguities.\"\n",
        "#         },\n",
        "#         {\n",
        "#           \"type\": \"image_url\",\n",
        "#           \"image_url\": {\n",
        "#             \"url\": f\"data:image/jpeg;base64,{base64_image}\"\n",
        "#           }\n",
        "#         }\n",
        "#       ]\n",
        "#     }\n",
        "#   ],\n",
        "#   \"max_tokens\": 500\n",
        "# }\n",
        "\n",
        "# response = requests.post(\"https://api.openai.com/v1/chat/completions\", headers=headers, json=payload)\n",
        "\n",
        "# print(response.json()['choices'][0]['message']['content'])"
      ],
      "metadata": {
        "id": "Yi7cH2Q8YYNK"
      },
      "execution_count": null,
      "outputs": []
    },
    {
      "cell_type": "code",
      "source": [
        "fnumber = str(0)"
      ],
      "metadata": {
        "id": "grl1UNrnn_7Z"
      },
      "execution_count": null,
      "outputs": []
    },
    {
      "cell_type": "code",
      "source": [
        "# for GPT 4\n",
        "\n",
        "fpath = '/content/drive/MyDrive/Lung Ventilator LLM/LUNG LLM/'+ fnumber + '/With Image Description/' + fnumber +' - Figure Texts/'\n",
        "figs = os.listdir(fpath)\n",
        "figs_keys = [\"The high-level software architecture\", \"High level view of ventilator sensors\" , \"GUI state machine\", \"Draft of GUI\", \"Controller state machine\", \"High level operation diagram\"]\n",
        "figs_dict = dict(zip(figs, figs_keys))\n",
        "\n",
        "output_path = '/content/drive/MyDrive/Lung Ventilator LLM/LUNG LLM/' + fnumber + '/With Image Description/Results - GPT4 with Images/Figure Ambiguities/'\n",
        "os.makedirs(output_path, exist_ok=True)\n",
        "\n",
        "for f in figs_dict.keys():\n",
        "  prompt = \"Based on the text description of\" + figs_dict[f] + \"provided in triple backticks, detect any ambiguities.\"\n",
        "  with open(fpath + f, 'r') as a:\n",
        "    content = a.read()\n",
        "\n",
        "  prompt += '\\n```\\n' + content + '\\n```'\n",
        "\n",
        "  updated_messages = template_str(prompt)\n",
        "\n",
        "  answers = openai.ChatCompletion.create(\n",
        "    model='gpt-4-turbo-preview',\n",
        "    temperature=0,\n",
        "    messages=[updated_messages]\n",
        "  )\n",
        "  g = open(output_path + f, 'w+')\n",
        "  res = answers['choices'][0]['message']['content']\n",
        "  print(res)\n",
        "  print('\\n')\n",
        "  g.write(res)\n",
        "  g.write('\\n')\n",
        "  g.close()"
      ],
      "metadata": {
        "colab": {
          "base_uri": "https://localhost:8080/"
        },
        "id": "ZldYvCKHYaic",
        "outputId": "0dd0d375-2185-48da-dfae-677929a24d4a"
      },
      "execution_count": null,
      "outputs": [
        {
          "output_type": "stream",
          "name": "stdout",
          "text": [
            "The description of the high-level software architecture for a mechanical lung ventilator system, as provided, contains several ambiguities that could lead to confusion or misinterpretation. Here are some of the ambiguities identified:\n",
            "\n",
            "1. **Sensors/Actuators Representation**: The description mentions that sensors and actuators are represented by a \"dashed capsule,\" but it does not clarify what specific aspects or characteristics differentiate sensors from actuators within this representation. This could lead to confusion about how to distinguish between sensors and actuators in the diagram.\n",
            "\n",
            "2. **Controller Processing Logic**: While it states that the controller processes input according to the software's logic to make decisions, it does not specify what kind of logic or algorithms are used. This leaves the controller's decision-making process ambiguous.\n",
            "\n",
            "3. **Bidirectional Arrow between Sensors/Actuators and Controller**: The description mentions a bidirectional arrow to illustrate the interactive relationship, but it does not specify the nature of the data exchanged. For instance, it's unclear what specific data is sent from the sensors to the controller and what control signals are sent back to the actuators.\n",
            "\n",
            "4. **GUI Representation and Functionality**: The GUI is described as a solid rectangle, which is the same representation used for the controller. This could lead to confusion about how to differentiate between these two components in the diagram. Additionally, the description of the GUI's functionality is vague, not specifying what kind of information is presented to the user or what inputs the user can provide.\n",
            "\n",
            "5. **Serial Communication**: The description mentions serial communication through an \"open circle\" but does not elaborate on the protocol or standards used for this communication. This leaves the specifics of how the controller and GUI communicate ambiguous.\n",
            "\n",
            "6. **User Interaction with GUI**: While it mentions that the user interacts with the GUI, it does not specify the mechanisms of this interaction. For example, it's unclear whether the interaction is through touch, buttons, voice commands, or another method.\n",
            "\n",
            "7. **Overall System Operation**: The description provides an overview of the components and their interactions but lacks detail on how these interactions contribute to the overall operation of the mechanical lung ventilator. For instance, it does not explain how the user's inputs via the GUI affect the controller's decisions or how the system ensures patient safety.\n",
            "\n",
            "Addressing these ambiguities would require providing more detailed explanations or definitions for the components and their interactions, specifying the types of data exchanged, and clarifying the operational logic of the system.\n",
            "\n",
            "\n",
            "The description of the high-level operation diagram of a mechanical lung ventilator contains several ambiguities that could lead to confusion or misinterpretation:\n",
            "\n",
            "1. **Ambiguity in \"SelfTest Mode\" Outcome**: The description mentions that upon passing the \"SelfTest Mode\" (denoted by \"pass\"), the ventilator transitions to the \"StandBy Mode\". However, it does not explicitly state what happens if the \"SelfTest Mode\" fails. Does the system go into a \"fail-safe\" state, does it prompt for a retest, or does it have another procedure for handling test failures?\n",
            "\n",
            "2. **Transition Conditions for \"Alarm Test Mode\"**: It is mentioned that from the \"StandBy Mode\", there is an option to enter the \"Alarm Test Mode\", which can be followed by powering off the ventilator. However, it's unclear if entering the \"Alarm Test Mode\" is a manual or automatic process, and what specific conditions or actions lead to transitioning from \"Alarm Test Mode\" back to \"StandBy Mode\" or directly to powering off.\n",
            "\n",
            "3. **Switching Between PCV and PSV Modes**: The description states that within the \"Ventilation Mode\" grouping, there are two modes: \"PCV\" and \"PSV\", with 2 unidirectional arrows between the 2 modes indicating that the ventilator can switch between these two modes. However, the term \"unidirectional arrows\" is ambiguous because it suggests a one-way direction, yet the context implies bidirectional switching capability between PCV and PSV modes. Clarification on how the switching occurs and under what conditions would be helpful.\n",
            "\n",
            "4. **\"Fail-Safe\" State Conditions and Actions**: The description mentions a transition to the \"fail-safe\" state from the \"Ventilation Mode\" but does not specify what conditions trigger this transition. Additionally, it's unclear what actions the ventilator takes once in the \"fail-safe\" state, how it affects the patient, and how the system recovers from this state.\n",
            "\n",
            "5. **Power Off Transitions**: While it's stated that the system can transition to the final state upon \"power off\" from several modes, it's not clear if the \"power off\" action is manual or automatic in each case. Furthermore, the description does not specify if there are any conditions or procedures that must be met before powering off from these states, especially from critical modes like \"Ventilation Mode\".\n",
            "\n",
            "6. **General Flow and Decision Points**: The description provides a structured flow but lacks detail on how decisions are made (e.g., criteria for determining a \"new patient\"), how errors are handled throughout the system, and whether there are any safety checks or confirmations required before transitioning between certain modes.\n",
            "\n",
            "Addressing these ambiguities would require additional information or clarification to ensure the operational flowchart is accurately understood and implemented, especially in critical medical devices like ventilators.\n",
            "\n",
            "\n",
            "The description of the GUI state machine in the provided text, which outlines the layout and functionality of a mechanical lung ventilator system, does contain some ambiguities and areas that could benefit from clarification:\n",
            "\n",
            "1. **GUI Interaction with Sensors**: The description mentions a Graphical User Interface (GUI) that \"presumably\" displays readings from various sensors and controls the ventilator. The use of \"presumably\" introduces ambiguity regarding the exact functions and capabilities of the GUI. It's unclear whether the GUI can control all aspects of the ventilator system, such as adjusting the gas blend or the PEEP valve settings, or if it's limited to displaying sensor readings.\n",
            "\n",
            "2. **Sensor Data Flow to GUI**: There is no explicit mention of how the data from the sensors (e.g., PS, OS, PS ins, PS exp) is transmitted to the GUI. Are the connections wired, wireless, or is there a central processing unit that collects and forwards the data? The mechanism of data collection and transmission to the GUI is not described, which could be crucial for understanding the system's operation and reliability.\n",
            "\n",
            "3. **GUI Controls and Feedback Mechanism**: While the GUI is associated with an LED indicator and a switch connected to power supply options, the description does not detail how the user interacts with the GUI to control the ventilator or how the GUI provides feedback to the user. For instance, it's unclear if the LED indicator signals specific states of the ventilator, errors, or power status, and how the switch influences the operation of the GUI or the ventilator system.\n",
            "\n",
            "4. **Power Supply to Sensors and Valves**: The description briefly mentions an AC power source and a battery for the GUI, but it does not specify how the sensors, valves (IN valve, OUT valve, PEEP valve), and the gas blender are powered. Are they also powered by the same AC source and battery, or do they have separate power requirements? This is important for understanding the system's resilience and operation during power outages.\n",
            "\n",
            "5. **Bidirectional Flow Sensor (FI2) Specificity**: The text mentions a bidirectional flow sensor (FI2) but does not specify how it distinguishes between inhalation and exhalation flows or how this data is utilized within the system. This could be crucial for understanding how the ventilator adjusts to the patient's breathing efforts and maintains the desired ventilation parameters.\n",
            "\n",
            "6. **PEEP Valve Operation**: The description mentions the PEEP valve's purpose but does not explain how its operation is controlled or monitored. Is the PEEP valve setting adjusted manually, through the GUI, or is it automatically controlled based on sensor readings? The mechanism of action and control for the PEEP valve remains ambiguous.\n",
            "\n",
            "Addressing these ambiguities would provide a clearer and more comprehensive understanding of the ventilator system's operation, particularly how the GUI interacts with and controls the various components of the system.\n",
            "\n",
            "\n",
            "The description of the GUI state machine for a mechanical lung ventilator contains several ambiguities that could lead to confusion or misinterpretation during implementation or analysis. Here are the identified ambiguities:\n",
            "\n",
            "1. **Ambiguous Transition Conditions**: The description of the transition from the \"Ventilating\" conditional state is ambiguous. It mentions if \"No / start-up ended\", the system transitions to the \"Start\" state, and if \"Yes\", it transitions to the \"Ventilation\" state. However, the conditions \"No\" and \"Yes\" are not clearly defined in terms of what they are responding to. This could lead to confusion about what exactly triggers these transitions.\n",
            "\n",
            "2. **Inconsistent Naming**: The text refers to both \"Ventilation\" and \"Ventilating\" states, which could imply two different states or be a typo. This inconsistency could lead to confusion about whether these are intended to be the same state or two distinct states within the system.\n",
            "\n",
            "3. **Missing \"powerOff\" Event for Some States**: The description notes that each state has an exit transition leading to a final state upon \"powerOff\", except for \"SelfTest\", \"Settings\", and \"Ventilating\" conditional state. However, it later specifies that \"Settings\" and \"Ventilating\" conditional state do not have a \"powerOff\" event, without mentioning the \"SelfTest\" state in this exception. This inconsistency raises questions about whether the \"SelfTest\" state can transition to the final state upon \"powerOff\" or not.\n",
            "\n",
            "4. **Unclear Final State Representation**: The description mentions a final state denoted by a circle with a border but does not explicitly define or label this final state. Without a clear definition or label, it's ambiguous what this final state represents (e.g., system shutdown, error state).\n",
            "\n",
            "5. **Ambiguous \"SelfTest\" State Transition**: It's mentioned that the \"SelfTest\" state can lead to the final state upon a test failure, denoted by \"powerOff/Test fail\". However, it's unclear whether \"powerOff\" and \"Test fail\" are two separate events that can trigger this transition or if this transition requires a combination of both events occurring simultaneously.\n",
            "\n",
            "6. **Lack of Clarity on Conditional Transitions**: The description uses the term \"conditional state\" for \"Ventilating\" but does not clearly define what makes a state conditional or how conditional states differ from other states in terms of behavior or representation in the UML diagram.\n",
            "\n",
            "7. **Ambiguity in \"Settings\" State Transition**: The description mentions that the \"Settings\" state leads back to the \"Menu\" state after saving settings or returning to the previous menu, denoted by \"Save/Go back\". It's ambiguous whether both actions (\"Save\" and \"Go back\") lead to the same outcome or if there are conditions or consequences that differentiate these transitions.\n",
            "\n",
            "Addressing these ambiguities would require clarifying the conditions and events that trigger state transitions, consistently naming states, and providing a more detailed explanation of the system's behavior, especially regarding how it handles power-off events and the characteristics of conditional states.\n",
            "\n",
            "\n",
            "The provided text describes a draft of a Graphical User Interface (GUI) for a mechanical lung ventilator, including a UML diagram description. While the description is detailed, there are several ambiguities and areas that could benefit from clarification:\n",
            "\n",
            "1. **Button Functions and State Changes**:\n",
            "   - The description mentions five action buttons (\"Back,\" \"Settings,\" \"Special Actions,\" \"Start PSV,\" and \"Stop PCV\") but does not specify the functions of these buttons beyond their labels. For instance, it's unclear what actions \"Special Actions\" triggers or how \"Start PSV\" and \"Stop PCV\" affect the ventilator's operation. The ambiguity here could lead to confusion about how the GUI controls the ventilator.\n",
            "   - There is no information on whether these buttons lead to new screens, pop-up dialogs, or immediate actions within the current GUI layout.\n",
            "\n",
            "2. **Graphical Display Area**:\n",
            "   - The description of the graphical display area is clear in terms of layout and labeling but lacks detail on how these graphs update or interact with user inputs. For example, it's not specified if the user can interact with the graphs (zoom, scroll, select specific data points) or how real-time the data display is.\n",
            "   - The significance of the square wave pattern in the \"PAW (cmH2O)\" graph or the specific waveform pattern in the \"Vtidal (ml)\" graph is not explained. Without context, the importance of these patterns to the user or how they should be interpreted is ambiguous.\n",
            "\n",
            "3. **Monitoring Information**:\n",
            "   - The text lists the types of monitoring information displayed but does not describe how this information is presented (numerical values, trends over time, color-coded status, etc.) or how often it is updated.\n",
            "   - It's unclear if any of these monitoring parameters are interactive or if they trigger alarms under certain conditions.\n",
            "\n",
            "4. **Alarm Interface**:\n",
            "   - The function of the \"Silence alarm\" button is presumably to mute current alarms, but it's ambiguous whether this action temporarily silences alarms or acknowledges and clears them from the system.\n",
            "   - The description of the \"Alarm messages\" banner does not specify how messages are displayed (scrolling text, list of messages, severity indication) or how the user interacts with them (acknowledge, clear, view details).\n",
            "\n",
            "5. **Overall GUI Interaction**:\n",
            "   - The description lacks information on the overall user interaction model of the GUI. For example, how does the user navigate between different functionalities, and how are changes (settings adjustments, start/stop ventilation) confirmed or canceled?\n",
            "   - There is no mention of any feedback mechanisms (visual, auditory) to confirm user actions or indicate system status changes.\n",
            "\n",
            "In summary, while the description provides a good overview of the GUI layout and components, it leaves several ambiguities regarding the functionality, user interaction, and feedback mechanisms that are critical for understanding how the GUI operates and supports the user in controlling the mechanical lung ventilator.\n",
            "\n",
            "\n",
            "The description of the high-level operation diagram for a controller state machine in a mechanical lung ventilator, as provided, is relatively clear but does contain a few ambiguities and areas that could benefit from further clarification:\n",
            "\n",
            "1. **Ambiguity in \"Ventilationoff\" State Naming**: The state is referred to as \"Ventilationoff\" in point 4 but is mentioned as \"VentilationOff\" (with a capital 'O') in subsequent points. This inconsistency in naming could lead to confusion about whether these refer to the same state or different states.\n",
            "\n",
            "2. **Unclear Transition Conditions for \"SelfTest\" State**: In point 4, the transition from the \"SelfTest\" state to the \"Ventilationoff\" state is triggered by \"SelftestPassed/Resuming Ventilation\". This phrasing could be interpreted as two separate events or a single event with a dual condition. Clarification on whether passing the self-test and resuming ventilation are two distinct events or part of the same condition would be helpful.\n",
            "\n",
            "3. **Ambiguity in \"Fail safe\" State Naming and Transition**: The term \"Fail safe\" is introduced in point 8 without prior mention or explanation. It's unclear whether \"Fail safe\" is a specific state that the system can enter from any other state upon an error, or if it's a general concept applied to multiple states. Additionally, the term \"Fail safe\" is typically written as \"Fail-safe\" or \"Failsafe\", so the naming convention could benefit from standardization.\n",
            "\n",
            "4. **Lack of Detail on Final State After Power Off**: Point 9 mentions a transition to the final state upon the \"powerOff\" event but does not describe or name this final state. It's unclear whether this final state is represented in the diagram (e.g., by a specific symbol like the initial state) or if it's simply the cessation of the system's operation.\n",
            "\n",
            "5. **General Lack of Detail on Event Conditions and Actions**: While the description outlines the states and transitions, it does not provide detail on the conditions under which events are triggered or the actions taken by the system when transitioning between states. For example, what constitutes an \"error\" that triggers a transition to the \"Fail safe\" state? What specific actions or checks are performed during the \"SelfTest\" state?\n",
            "\n",
            "6. **Inconsistency in Event Naming Convention**: The document uses different naming conventions for events (e.g., \"powerOn\" vs. \"start-up ended\" vs. \"SelftestPassed/Resuming Ventilation\"). Standardizing the naming convention for events could improve clarity and consistency throughout the document.\n",
            "\n",
            "Addressing these ambiguities would enhance the clarity and comprehensiveness of the high-level operation diagram description, making it easier for readers to understand the system's behavior and design.\n",
            "\n",
            "\n"
          ]
        }
      ]
    },
    {
      "cell_type": "code",
      "source": [
        "# for GPT 3.5\n",
        "\n",
        "fpath = '/content/drive/MyDrive/Lung Ventilator LLM/LUNG LLM/'+ fnumber + '/With Image Description/' + fnumber +' - Figure Texts/'\n",
        "figs = os.listdir(fpath)\n",
        "figs_keys = [\"The high-level software architecture\", \"High level view of ventilator sensors\" , \"GUI state machine\", \"Draft of GUI\", \"Controller state machine\", \"High level operation diagram\"]\n",
        "figs_dict = dict(zip(figs, figs_keys))\n",
        "\n",
        "output_path = '/content/drive/MyDrive/Lung Ventilator LLM/LUNG LLM/' + fnumber + '/With Image Description/Results - GPT3.5 with Images/Figure Ambiguities/'\n",
        "os.makedirs(output_path, exist_ok=True)\n",
        "\n",
        "for f in figs_dict.keys():\n",
        "  prompt = \"Based on the text description of\" + figs_dict[f] + \"provided in triple backticks, detect any ambiguities.\"\n",
        "  with open(fpath + f, 'r') as a:\n",
        "    content = a.read()\n",
        "\n",
        "  prompt += '\\n```\\n' + content + '\\n```'\n",
        "\n",
        "  updated_messages = template_str(prompt)\n",
        "\n",
        "  answers = openai.ChatCompletion.create(\n",
        "    model='gpt-3.5-turbo',\n",
        "    temperature=0,\n",
        "    messages=[updated_messages]\n",
        "  )\n",
        "  g = open(output_path + f, 'w+')\n",
        "  res = answers['choices'][0]['message']['content']\n",
        "  print(res)\n",
        "  print('\\n')\n",
        "  g.write(res)\n",
        "  g.write('\\n')\n",
        "  g.close()"
      ],
      "metadata": {
        "colab": {
          "base_uri": "https://localhost:8080/"
        },
        "id": "2ikzWtdNa2z3",
        "outputId": "ddf4d7e1-92b6-4e97-c0dc-2feeb403b5bf"
      },
      "execution_count": null,
      "outputs": [
        {
          "output_type": "stream",
          "name": "stdout",
          "text": [
            "One potential ambiguity in the text description of the high-level software architecture is the term \"controller.\" While it is described as the central processing unit that receives input from sensors/actuators and processes it according to the software's logic to make decisions, it is not explicitly stated whether this controller is a physical hardware component or a software component. This could lead to confusion regarding the actual implementation of the controller within the system.\n",
            "\n",
            "\n",
            "One ambiguity in the text description is the lack of clarity on what triggers the transition to the \"fail safe\" state from the \"Ventilation Mode\". It is mentioned that it can transition to the \"fail safe\" state, but the specific conditions or events that lead to this transition are not clearly defined.\n",
            "\n",
            "\n",
            "Ambiguities detected in the text description of the GUI state machine provided in triple backticks:\n",
            "- The text description does not clearly specify the exact functionality of the GUI in relation to the state machine. It mentions that the GUI displays readings from various sensors and controls the ventilator, but it does not elaborate on how the GUI interacts with the state machine.\n",
            "- It is unclear how the LED indicator and switch connected to an AC power source and battery relate to the GUI and the state machine. Are they part of the GUI interface or separate components in the system?\n",
            "- The text does not mention how the state transitions are triggered within the GUI state machine. Are they based on user inputs, sensor readings, or predefined algorithms?\n",
            "- The relationship between the GUI, the state machine, and the overall ventilator system is not clearly defined. How does the GUI state machine interact with other components in the system to ensure proper ventilation control?\n",
            "\n",
            "\n",
            "Ambiguities detected in the provided text description of the GUI draft:\n",
            "\n",
            "1. It is not explicitly mentioned what happens if the \"Ventilating\" conditional state does not encounter the events \"No / start-up ended\" or \"Yes\". The behavior in this scenario is not defined.\n",
            "\n",
            "2. It is unclear what happens if the \"SelfTest\" state fails. The text mentions transitioning back to the \"Menu\" state, but it is not specified if any other actions or notifications occur.\n",
            "\n",
            "3. The text mentions that each state has an exit transition leading to a final state upon power off, except for \"SelfTest\" and \"Settings\" states. It is not clear what the behavior is for these two states upon power off.\n",
            "\n",
            "4. The text mentions that the \"Ventilation\" state can only transition back to the final state when the power is turned off. It is not specified what happens if the power is not turned off but the system needs to exit the \"Ventilation\" state.\n",
            "\n",
            "5. The text mentions that the \"Settings\" state leads back to the \"Menu\" state after saving settings or returning to the previous menu. It is not specified what happens if the user does not save settings or chooses not to go back to the previous menu.\n",
            "\n",
            "Overall, the text description lacks clarity in certain scenarios and could benefit from additional details to avoid ambiguities in the GUI draft.\n",
            "\n",
            "\n",
            "One potential ambiguity in the text description of the Controller state machine is the term \"Special Actions\" in the Navigation Bar. It is not specified what these special actions entail or what functionality they provide, which could lead to confusion for users trying to navigate the GUI. Clarifying the specific actions or functions associated with the \"Special Actions\" button would help eliminate this ambiguity.\n",
            "\n",
            "\n",
            "One ambiguity in the text description of the high level operation diagram is the use of the term \"error\" in point 8. It is not clearly defined what constitutes an \"error\" that would trigger a transition to the \"Fail safe\" state. This could be interpreted differently by different individuals or teams working on the system. Clarification on what specific errors would lead to this transition would be helpful.\n",
            "\n",
            "\n"
          ]
        }
      ]
    },
    {
      "cell_type": "markdown",
      "metadata": {
        "id": "jXp7IoKXriqg"
      },
      "source": [
        "# Issues Part"
      ]
    },
    {
      "cell_type": "markdown",
      "metadata": {
        "id": "wYHivNi7XkCC"
      },
      "source": [
        "- #2: system + alarms\n",
        "- #3: system\n",
        "- #4: system\n",
        "- #5a: system\n",
        "- #5b: system\n",
        "- #6: system\n",
        "- #8a: gui + controller\n",
        "- #8b: gui + controller\n",
        "- #8c: gui + controller\n",
        "- #12: system\n",
        "- #14a: gui+ controller\n",
        "- #14b: system\n",
        "- #16a: system\n",
        "- #16b: system\n",
        "- #17: system\n",
        "- #18: system\n",
        "- #19: alarms + controller\n",
        "- #15: system"
      ]
    },
    {
      "cell_type": "code",
      "execution_count": null,
      "metadata": {
        "id": "fKsd3ZhB0Fzw"
      },
      "outputs": [],
      "source": [
        "#################### DEFINE WHICH FOLDER TO USE\n",
        "\n",
        "fnumber = str(5)  # for paper 5"
      ]
    },
    {
      "cell_type": "code",
      "execution_count": null,
      "metadata": {
        "colab": {
          "base_uri": "https://localhost:8080/"
        },
        "id": "Sh0WiEeD0Fz0",
        "outputId": "b1a6a69e-7959-4ab8-f266-8d8a44b68b0c"
      },
      "outputs": [
        {
          "output_type": "stream",
          "name": "stdout",
          "text": [
            "Mounted at /content/drive\n"
          ]
        }
      ],
      "source": [
        "from google.colab import drive\n",
        "drive.mount('/content/drive', force_remount=True)"
      ]
    },
    {
      "cell_type": "code",
      "execution_count": null,
      "metadata": {
        "id": "sNlOgoSn0Fz1",
        "colab": {
          "base_uri": "https://localhost:8080/"
        },
        "outputId": "8973d206-e449-479b-eeef-aa6322b555dd"
      },
      "outputs": [
        {
          "output_type": "stream",
          "name": "stdout",
          "text": [
            "Requirement already satisfied: openai==0.28 in /usr/local/lib/python3.10/dist-packages (0.28.0)\n",
            "Requirement already satisfied: requests>=2.20 in /usr/local/lib/python3.10/dist-packages (from openai==0.28) (2.31.0)\n",
            "Requirement already satisfied: tqdm in /usr/local/lib/python3.10/dist-packages (from openai==0.28) (4.66.2)\n",
            "Requirement already satisfied: aiohttp in /usr/local/lib/python3.10/dist-packages (from openai==0.28) (3.9.3)\n",
            "Requirement already satisfied: charset-normalizer<4,>=2 in /usr/local/lib/python3.10/dist-packages (from requests>=2.20->openai==0.28) (3.3.2)\n",
            "Requirement already satisfied: idna<4,>=2.5 in /usr/local/lib/python3.10/dist-packages (from requests>=2.20->openai==0.28) (3.6)\n",
            "Requirement already satisfied: urllib3<3,>=1.21.1 in /usr/local/lib/python3.10/dist-packages (from requests>=2.20->openai==0.28) (2.0.7)\n",
            "Requirement already satisfied: certifi>=2017.4.17 in /usr/local/lib/python3.10/dist-packages (from requests>=2.20->openai==0.28) (2024.2.2)\n",
            "Requirement already satisfied: aiosignal>=1.1.2 in /usr/local/lib/python3.10/dist-packages (from aiohttp->openai==0.28) (1.3.1)\n",
            "Requirement already satisfied: attrs>=17.3.0 in /usr/local/lib/python3.10/dist-packages (from aiohttp->openai==0.28) (23.2.0)\n",
            "Requirement already satisfied: frozenlist>=1.1.1 in /usr/local/lib/python3.10/dist-packages (from aiohttp->openai==0.28) (1.4.1)\n",
            "Requirement already satisfied: multidict<7.0,>=4.5 in /usr/local/lib/python3.10/dist-packages (from aiohttp->openai==0.28) (6.0.5)\n",
            "Requirement already satisfied: yarl<2.0,>=1.0 in /usr/local/lib/python3.10/dist-packages (from aiohttp->openai==0.28) (1.9.4)\n",
            "Requirement already satisfied: async-timeout<5.0,>=4.0 in /usr/local/lib/python3.10/dist-packages (from aiohttp->openai==0.28) (4.0.3)\n"
          ]
        }
      ],
      "source": [
        "import os\n",
        "!pip install openai==0.28"
      ]
    },
    {
      "cell_type": "code",
      "execution_count": null,
      "metadata": {
        "id": "LoRSgSbEX2mi"
      },
      "outputs": [],
      "source": [
        "doc_w_image_path = os.path.join('/content/drive/MyDrive/Lung Ventilator LLM/LUNG LLM/', fnumber, 'With Image Description/All Cleaned Data with Images')\n",
        "\n",
        "def load_file(path):\n",
        "  f = open(path, 'r')\n",
        "  res = f.read()\n",
        "  f.close()\n",
        "  return res\n",
        "\n",
        "system_path = os.path.join(doc_w_image_path, 'System Requirements.txt')\n",
        "system_file = load_file(system_path)\n",
        "gui_path = os.path.join(doc_w_image_path, 'GUI Requirements.txt')\n",
        "gui_file = load_file(gui_path)\n",
        "controller_path = os.path.join(doc_w_image_path, 'Controller Requirements.txt')\n",
        "controller_file = load_file(controller_path)\n",
        "alarm_path = os.path.join(doc_w_image_path, 'Alarm.txt')\n",
        "alarm_file = load_file(alarm_path)\n",
        "defs_path = os.path.join(doc_w_image_path, 'Definitions.txt')\n",
        "defs_file = load_file(defs_path)\n",
        "full_mech_path = os.path.join(doc_w_image_path, 'mech_lung_ventilator.txt')\n",
        "full_file = load_file(full_mech_path)"
      ]
    },
    {
      "cell_type": "code",
      "execution_count": null,
      "metadata": {
        "id": "nyWS-hbfZ6Ug"
      },
      "outputs": [],
      "source": [
        "issue_files_map = {\n",
        "  '2': (system_file, alarm_file),\n",
        "  '3': (system_file,),\n",
        "  '4': (system_file,),\n",
        "  '5a': (system_file,),\n",
        "  '5b': (system_file,),\n",
        "  '6': (system_file,),\n",
        "  '8a': (gui_file, controller_file),\n",
        "  '8b': (gui_file, controller_file),\n",
        "  '8c': (gui_file, controller_file),\n",
        "  '12': (system_file,),\n",
        "  '14a': (gui_file, controller_file),\n",
        "  '14b': (system_file,),\n",
        "  '16a': (system_file,),\n",
        "  '16b': (system_file,),\n",
        "  '17': (system_file,),\n",
        "  '18': (system_file,),\n",
        "  '19': (alarm_file, controller_file),\n",
        "  '15': (system_file,),\n",
        "}\n",
        "\n",
        "issue_file_names_map = {\n",
        "  '2': 'System Requirements and Alarms sections',\n",
        "  '3': 'System Requirements section',\n",
        "  '4': 'System Requirements section',\n",
        "  '5a': 'System Requirements section',\n",
        "  '5b': 'System Requirements section',\n",
        "  '6': 'System Requirements section',\n",
        "  '8a': 'GUI Requirements and Controller Requirements sections',\n",
        "  '8b': 'GUI Requirements and Controller Requirements sections',\n",
        "  '8c': 'GUI Requirements and Controller Requirements sections',\n",
        "  '12': 'System Requirements section',\n",
        "  '14a': 'GUI Requirements and Controller Requirements sections',\n",
        "  '14b': 'System Requirements section',\n",
        "  '16a': 'System Requirements section',\n",
        "  '16b': 'System Requirements section',\n",
        "  '17': 'System Requirements section',\n",
        "  '18': 'System Requirements section',\n",
        "  '19': 'Alarms and Controller Requirements sections',\n",
        "  '15': 'System Requirements section',\n",
        "}"
      ]
    },
    {
      "cell_type": "code",
      "execution_count": null,
      "metadata": {
        "id": "2lmVKkGxCojw"
      },
      "outputs": [],
      "source": [
        "import openai\n",
        "# import time\n",
        "\n",
        "openai.api_key = ''\n",
        "\n",
        "def template_str(prompt):\n",
        "  return {'role': 'user', 'content': prompt}"
      ]
    },
    {
      "cell_type": "code",
      "execution_count": null,
      "metadata": {
        "id": "AUkKNZo6bPvx"
      },
      "outputs": [],
      "source": [
        "store_path1 = '/content/drive/MyDrive/Lung Ventilator LLM/LUNG LLM/5/With Image Description/Results - GPT3.5 with Images/Issues/Section-wise/'\n",
        "store_path2 = '/content/drive/MyDrive/Lung Ventilator LLM/LUNG LLM/5/With Image Description/Results - GPT4 with Images/Issues/Section-wise/'\n",
        "os.makedirs(store_path1, exist_ok=True)\n",
        "os.makedirs(store_path2, exist_ok=True)\n",
        "\n",
        "for issue_id, files in issue_files_map.items():\n",
        "  issue_text = issue_text_map[issue_id]\n",
        "  file_str = '\\n\\n'.join(files)\n",
        "  prompt = f'''\\\n",
        "  The following contains the detailed software requirements specification\\\n",
        "  of a Mechanical Lung Ventilator, provided between triple backticks,\\\n",
        "  consisting of {issue_file_names_map[issue_id]}.\\\n",
        "  Assume you are the creator of the software requirements specification and need to answer queries about your requirements.\n",
        "  Evaluate the content to answer the following question:\n",
        "  {issue_text}\n",
        "\n",
        "  Software Requirements Specification:\n",
        "  ```\n",
        "  {defs_file}\\n\n",
        "  {file_str}\n",
        "  ```\n",
        "  '''\n",
        "\n",
        "  g = open(store_path2 + str(issue_id) + '.txt', 'w+')\n",
        "  updated_messages = template_str(prompt)\n",
        "\n",
        "  answers = openai.ChatCompletion.create(\n",
        "    model='gpt-4-turbo-preview',\n",
        "    temperature=0,\n",
        "    messages=[updated_messages]\n",
        "  )\n",
        "  res = answers['choices'][0]['message']['content']\n",
        "  g.write(res)\n",
        "  g.write('\\n')\n",
        "  g.close()\n",
        "\n",
        "  f = open(store_path1 + str(issue_id) + '.txt', 'w+')\n",
        "  updated_messages = template_str(prompt)\n",
        "\n",
        "  answers = openai.ChatCompletion.create(\n",
        "    model='gpt-3.5-turbo',\n",
        "    temperature=0,\n",
        "    messages=[updated_messages]\n",
        "  )\n",
        "  res = answers['choices'][0]['message']['content']\n",
        "  f.write(res)\n",
        "  f.write('\\n')\n",
        "  f.close()\n"
      ]
    },
    {
      "cell_type": "code",
      "execution_count": null,
      "metadata": {
        "id": "XDuuBjTukJ0q"
      },
      "outputs": [],
      "source": [
        "store_path1 = '/content/drive/MyDrive/Lung Ventilator LLM/LUNG LLM/5/With Image Description/Results - GPT3.5 with Images/Issues/'\n",
        "store_path2 = '/content/drive/MyDrive/Lung Ventilator LLM/LUNG LLM/5/With Image Description/Results - GPT4 with Images/Issues/'\n",
        "\n",
        "issue_text = issues_global_prompt\n",
        "file_str = load_file('/content/drive/MyDrive/Lung Ventilator LLM/LUNG LLM/5/With Image Description/All Cleaned Data with Images/mech_lung_ventilator.txt')\n",
        "prompt = f'''\\\n",
        "The following contains the detailed software requirements specification\\\n",
        "of a Mechanical Lung Ventilator, provided between triple backticks.\\\n",
        "Assume you are the creator of the software requirements specification and need to answer queries about your requirements.\n",
        "Evaluate the content to answer the following question:\n",
        "{issue_text}\n",
        "\n",
        "Software Requirements Specification:\n",
        "```\n",
        "{file_str}\n",
        "```\n",
        "'''\n",
        "\n",
        "g = open(store_path2 + 'global.txt', 'w+')\n",
        "updated_messages = template_str(prompt)\n",
        "\n",
        "answers = openai.ChatCompletion.create(\n",
        "  model='gpt-4-turbo-preview',\n",
        "  temperature=0,\n",
        "  messages=[updated_messages]\n",
        ")\n",
        "res = answers['choices'][0]['message']['content']\n",
        "g.write(res)\n",
        "g.write('\\n')\n",
        "g.close()\n",
        "\n",
        "# f = open(store_path1 + 'global.txt', 'w+')\n",
        "# updated_messages = template_str(prompt)\n",
        "\n",
        "# answers = openai.ChatCompletion.create(\n",
        "#   model='gpt-3.5-turbo',\n",
        "#   temperature=0,\n",
        "#   messages=[updated_messages]\n",
        "# )\n",
        "# res = answers['choices'][0]['message']['content']\n",
        "# f.write(res)\n",
        "# f.write('\\n')\n",
        "# f.close()"
      ]
    },
    {
      "cell_type": "code",
      "execution_count": null,
      "metadata": {
        "id": "98cfGGxh0Fz1"
      },
      "outputs": [],
      "source": [
        "def checker(astr):\n",
        "  name = astr.split()[0].lower()\n",
        "  return name if (name in sections) else 'global'"
      ]
    },
    {
      "cell_type": "code",
      "execution_count": null,
      "metadata": {
        "id": "lzs3IBtArl3i",
        "colab": {
          "base_uri": "https://localhost:8080/"
        },
        "outputId": "40a5975e-a30f-4461-f22e-93a677b67bb5"
      },
      "outputs": [
        {
          "output_type": "execute_result",
          "data": {
            "text/plain": [
              "dict_keys(['global', 'gui', 'system', 'introduction', 'alarm', 'controller', 'definitions'])"
            ]
          },
          "metadata": {},
          "execution_count": 134
        }
      ],
      "source": [
        "sections = ['global', 'introduction', 'system', 'controller', 'gui', 'alarm', 'definitions']\n",
        "requirements = ['comp', 'cont', 'ambi']\n",
        "\n",
        "file_section = {}\n",
        "\n",
        "fpath = os.path.join('/content/drive/MyDrive/Lung Ventilator LLM/LUNG LLM/', fnumber, 'With Image Description/All Cleaned Data with Images')\n",
        "dirs = os.listdir(fpath)\n",
        "for d in dirs:\n",
        "  with open(os.path.join(fpath, d), \"r\") as f:\n",
        "    content = f.read()\n",
        "  file_section[checker(d.replace('.txt', ''))] = content\n",
        "file_section.keys()"
      ]
    },
    {
      "cell_type": "code",
      "execution_count": null,
      "metadata": {
        "id": "8wFm84OY0hp1"
      },
      "outputs": [],
      "source": [
        "# adding definitions to the beginning of each section\n",
        "\n",
        "filtered_sec = [s for s in sections if s not in ['definitions', 'global']]\n",
        "for s in filtered_sec:\n",
        "  file_section[s] = file_section['definitions'] + '\\n\\n' + file_section[s]\n",
        "sections = ['global', 'introduction', 'system', 'controller', 'gui', 'alarm']"
      ]
    },
    {
      "cell_type": "code",
      "execution_count": null,
      "metadata": {
        "id": "YZixfg09y-Wx"
      },
      "outputs": [],
      "source": [
        "################################## for Issues\n",
        "issues_prompts = {}\n",
        "for section in sections:\n",
        "  var_name = 'issues_' + section + '_prompt'\n",
        "  issues_prompt = globals()[var_name] + '\\n\\n' + '```\\n' + file_section[section] + '```\\n'\n",
        "  issues_prompt[section] = combined_prompt\n",
        "issues_prompt.keys()"
      ]
    },
    {
      "cell_type": "code",
      "execution_count": null,
      "metadata": {
        "id": "n6jJIrlTy-W2"
      },
      "outputs": [],
      "source": [
        "results_path = os.path.join('/content/drive/MyDrive/Lung Ventilator LLM/LUNG LLM/', fnumber, 'With Image Description/Results - GPT4 with Images')\n",
        "os.makedirs(results_path, exist_ok = True)\n",
        "os.makedirs(os.path.join(results_path, 'Issues'), exist_ok = True)\n",
        "\n",
        "keys = list(issues_prompt.keys())\n",
        "\n",
        "for key in keys:\n",
        "  g = open(os.path.join(results_path, 'Issues','') + key + '.txt', 'w+')\n",
        "\n",
        "  updated_messages = template_str(issues_prompt[key])\n",
        "\n",
        "  answers = openai.ChatCompletion.create(\n",
        "    model='gpt-4-turbo-preview',\n",
        "    temperature=0,\n",
        "    messages=[updated_messages]\n",
        "  )\n",
        "  res = answers['choices'][0]['message']['content']\n",
        "  g.write(res)\n",
        "  g.write('\\n')\n",
        "  g.close()"
      ]
    },
    {
      "cell_type": "code",
      "execution_count": null,
      "metadata": {
        "id": "gL08QEpsy-W2"
      },
      "outputs": [],
      "source": [
        "results_path = os.path.join('/content/drive/MyDrive/Lung Ventilator LLM/LUNG LLM/', fnumber, 'With Image Description/Results - GPT3.5 with Images')\n",
        "os.makedirs(results_path, exist_ok = True)\n",
        "os.makedirs(os.path.join(results_path, 'Issues'), exist_ok = True)\n",
        "\n",
        "keys = list(issues_prompt.keys())\n",
        "\n",
        "for key in keys[1:]:\n",
        "  g = open(os.path.join(results_path, 'Issues','') + key + '.txt', 'w+')\n",
        "\n",
        "  updated_messages = template_str(issues_prompt[key])\n",
        "\n",
        "  answers = openai.ChatCompletion.create(\n",
        "    model='gpt-3.5-turbo',\n",
        "    temperature=0,\n",
        "    messages=[updated_messages]\n",
        "  )\n",
        "  res = answers['choices'][0]['message']['content']\n",
        "  g.write(res)\n",
        "  g.write('\\n')\n",
        "  g.close()"
      ]
    },
    {
      "cell_type": "markdown",
      "metadata": {
        "id": "Qx4xoTS70S_3"
      },
      "source": [
        "# Versioning Changes"
      ]
    },
    {
      "cell_type": "code",
      "execution_count": null,
      "metadata": {
        "id": "vHRa12yV0ayV"
      },
      "outputs": [],
      "source": [
        "ver_comments = {\n",
        "    '1' : {\n",
        "      '1': 'Perhaps, FUN 10.5 needs to be more precise because according to the figure 2, the following scenario is possible:\\n\\n1 The system is in the ventilation mode\\n2 Stop ventilation while the patient is still connected: the system becomes in StandBy mode\\n3 It is possible to proceed with alarm testing : FUN 10.5 is violated',\n",
        "      '2': 'FUN.4 still makes reference to Alarm mode.\\nMoreover, is it possible to set ventilation parameters while having the patient connected. According to FUN10.5, this is forbidden. But Figure 2 allows that.',\n",
        "    },\n",
        "    '2': {\n",
        "      '4': 'I\\'m a little confused about FUN.20. It says that \"the breathing cycle shall be defined by inspiratory pressure Pinsp_PCV relative to atmosphere, respiratory rate (RRPCV) and the ratio between the inspiratory and expiratory times (I:E PCV ).\" but what does this mean?\\n\\nFUN.21 (and FUN.25) talk about what triggers the start of the breathing cycle, but I don\\'t understand what FUN.20 means by defining the breathing cycle. Is there a way you can re-explain this using triggers for the start and end of a breathing cycle?'\n",
        "    },\n",
        "    '3': {\n",
        "      '7': 'I think a transition \"Stop ventilation\" is missing in Figure 3.1. It should be from State Ventilation to State Menu.',\n",
        "      '8a': 'As states machines have common states, I think it would be better to have same labels on the equivalent transitions/states.\\nFor instance, Does the condition \"Ventilating\", in Figure 3.1, mean \"new patient\" ? If so, we can replace the label Yes by \"start Ventilation\"?\\nIn other words, it is not possible to have Figure 4.1 in State PSV/PCV and Figure 3.1 in State \"Ventilating\". Am I right?',\n",
        "      '8b': 'As states machines (Figures 2.1, 3.1 and 4.1) have common states, I think it would be better to have same labels on the equivalent transitions/states.\\nFor instance, does the condition \"Ventilating\", in Figure 3.1, mean \"new patient\" as that of Figure 2.1 ? If so, we can replace the label Yes by \"start Ventilation\"?\\nIn other words, it is not possible to have Figure 4.1 in State PSV/PCV and Figure 3.1 in State \"StartUp\". Am I right?',\n",
        "    },\n",
        "    '4': {\n",
        "      '9': 'I think it would better to add a state FailSafe to Figure 3.1 in order to make two different outgoing transitions from State SelfTest:\\na. if the power is Off, the target of the transition will be the final state\\nb. if the test fail, the target of the transition will be the state FailSafe',\n",
        "      '10': 'How does an error, on the controller, affect/impact the GUI? There is a transition labelled \"error\" on Figure 4.1, but we do bot know how it is propagated on the GUI (Figure 3.1).',\n",
        "      '11': 'In some parts of the document, the comparison of pressure drop is done by using >, in other parts is < (likely under the assumption that drop is negative?). We assume now that when there is a drop in the pressure, the drop is positive. For instance, if the pressure is 30cmH2O and suddenly it becomes 20cmH2O, the drop is positive (10cmH2O). The drop should actually measure the acceleration of the drop in pressure to really evaluate the intensity and in case initiate the inspiratory phase.'\n",
        "    }\n",
        "}"
      ]
    },
    {
      "cell_type": "code",
      "execution_count": null,
      "metadata": {
        "colab": {
          "base_uri": "https://localhost:8080/",
          "height": 228
        },
        "id": "aqzcKVxw4D1E",
        "outputId": "976922d2-e908-4551-ecfd-ec5934b3bbb6"
      },
      "outputs": [
        {
          "ename": "FileNotFoundError",
          "evalue": "[Errno 2] No such file or directory: '/content/drive/MyDrive/Lung Ventilator LLM/LUNG LLM/1/Versioning Changes Prompting/Results - GPT41.txt'",
          "output_type": "error",
          "traceback": [
            "\u001b[0;31m---------------------------------------------------------------------------\u001b[0m",
            "\u001b[0;31mFileNotFoundError\u001b[0m                         Traceback (most recent call last)",
            "\u001b[0;32m<ipython-input-15-959869107961>\u001b[0m in \u001b[0;36m<cell line: 1>\u001b[0;34m()\u001b[0m\n\u001b[1;32m     19\u001b[0m     '''\n\u001b[1;32m     20\u001b[0m \u001b[0;34m\u001b[0m\u001b[0m\n\u001b[0;32m---> 21\u001b[0;31m     \u001b[0mg\u001b[0m \u001b[0;34m=\u001b[0m \u001b[0mopen\u001b[0m\u001b[0;34m(\u001b[0m\u001b[0mstore_path2\u001b[0m \u001b[0;34m+\u001b[0m \u001b[0mstr\u001b[0m\u001b[0;34m(\u001b[0m\u001b[0missue_id\u001b[0m\u001b[0;34m)\u001b[0m \u001b[0;34m+\u001b[0m \u001b[0;34m'.txt'\u001b[0m\u001b[0;34m,\u001b[0m \u001b[0;34m'w+'\u001b[0m\u001b[0;34m)\u001b[0m\u001b[0;34m\u001b[0m\u001b[0;34m\u001b[0m\u001b[0m\n\u001b[0m\u001b[1;32m     22\u001b[0m     \u001b[0mupdated_messages\u001b[0m \u001b[0;34m=\u001b[0m \u001b[0mtemplate_str\u001b[0m\u001b[0;34m(\u001b[0m\u001b[0mprompt\u001b[0m\u001b[0;34m)\u001b[0m\u001b[0;34m\u001b[0m\u001b[0;34m\u001b[0m\u001b[0m\n\u001b[1;32m     23\u001b[0m \u001b[0;34m\u001b[0m\u001b[0m\n",
            "\u001b[0;31mFileNotFoundError\u001b[0m: [Errno 2] No such file or directory: '/content/drive/MyDrive/Lung Ventilator LLM/LUNG LLM/1/Versioning Changes Prompting/Results - GPT41.txt'"
          ]
        }
      ],
      "source": [
        "\n",
        "# for fileno, comments in ver_comments.items():\n",
        "#   store_path1 = f'/content/drive/MyDrive/Lung Ventilator LLM/LUNG LLM/{fileno}/Changes/Results - GPT3.5'\n",
        "#   store_path2 = f'/content/drive/MyDrive/Lung Ventilator LLM/LUNG LLM/{fileno}/Changes/Results - GPT4'\n",
        "\n",
        "#   for issue_id, comment in comments.items():\n",
        "#     # issue_text = issue_text_map[issue_id]\n",
        "#     # file_str = '\\n\\n'.join(files)\n",
        "#     prompt = f'''\\\n",
        "#     The following contains the detailed software requirements specification\\\n",
        "#     of a Mechanical Lung Ventilator, provided between triple backticks.\n",
        "#     Assume you are the creator of the software requirements specification and need to answer queries about your requirements.\n",
        "#     Evaluate the content to answer the following question and how you will fix the specification:\n",
        "#     {comment}\n",
        "\n",
        "#     Software Requirements Specification:\n",
        "#     ```\n",
        "#     {full_file}\\n\n",
        "#     ```\n",
        "#     '''\n",
        "\n",
        "#     g = open(store_path2 + str(issue_id) + '.txt', 'w+')\n",
        "#     updated_messages = template_str(prompt)\n",
        "\n",
        "#     answers = openai.ChatCompletion.create(\n",
        "#       model='gpt-4-turbo-preview',\n",
        "#       temperature=0,\n",
        "#       messages=[updated_messages]\n",
        "#     )\n",
        "#     res = answers['choices'][0]['message']['content']\n",
        "#     g.write(res)\n",
        "#     g.write('\\n')\n",
        "#     g.close()\n",
        "\n",
        "#     f = open(store_path1 + str(issue_id) + '.txt', 'w+')\n",
        "#     updated_messages = template_str(prompt)\n",
        "\n",
        "#     answers = openai.ChatCompletion.create(\n",
        "#       model='gpt-3.5-turbo',\n",
        "#       temperature=0,\n",
        "#       messages=[updated_messages]\n",
        "#     )\n",
        "#     res = answers['choices'][0]['message']['content']\n",
        "#     f.write(res)\n",
        "#     f.write('\\n')\n",
        "#     f.close()\n"
      ]
    },
    {
      "cell_type": "markdown",
      "metadata": {
        "id": "dGOGv8rmBhMJ"
      },
      "source": [
        "# IEC Verification"
      ]
    },
    {
      "cell_type": "code",
      "execution_count": null,
      "metadata": {
        "id": "u473nFMhBnZU"
      },
      "outputs": [],
      "source": [
        "# iec_global_prompt = \"\"\"\n",
        "# The following contains the detailed software requirements specification of a Mechanical Lung Ventilator, provided between triple backticks, consisting of Introduction, System Requirements, GUI Requirements, Controller Requirements, and Alarms sections. Evaluate the content for verifying the appropriate use of the standard IEC (International Electrotechnical Commission) 62304.\n",
        "# Based on the content given:\n",
        "\n",
        "# \"\"\"\n",
        "updated_messages = template_str(\"Do you have access to standard IEC (International Electrotechnical Commission) 62304?\")\n",
        "answers = openai.ChatCompletion.create(\n",
        "  model='gpt-4-turbo-preview',\n",
        "  temperature=0,\n",
        "  messages=[updated_messages]\n",
        ")\n"
      ]
    }
  ],
  "metadata": {
    "colab": {
      "collapsed_sections": [
        "dq9orpo4JXYL",
        "lsvSIk366CmU",
        "rvF7LfsGfJJC",
        "jXp7IoKXriqg",
        "Qx4xoTS70S_3",
        "dGOGv8rmBhMJ"
      ],
      "provenance": []
    },
    "kernelspec": {
      "display_name": "Python 3",
      "name": "python3"
    },
    "language_info": {
      "name": "python"
    }
  },
  "nbformat": 4,
  "nbformat_minor": 0
}